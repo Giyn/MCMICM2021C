{
 "cells": [
  {
   "cell_type": "code",
   "execution_count": 33,
   "metadata": {},
   "outputs": [],
   "source": [
    "from IPython.core.interactiveshell import InteractiveShell\n",
    "\n",
    "import json\n",
    "import pandas as pd\n",
    "import numpy as np\n",
    "\n",
    "InteractiveShell.ast_node_interactivity = \"all\"  # 一个cell显示多输出\n",
    "\n",
    "pd.set_option('display.max_rows', 100)  # 设置最大显示100行\n",
    "pd.set_option('display.max_columns', 100)  # 设置最大显示100列"
   ]
  },
  {
   "cell_type": "code",
   "execution_count": 34,
   "metadata": {},
   "outputs": [
    {
     "data": {
      "text/html": [
       "<div>\n",
       "<style scoped>\n",
       "    .dataframe tbody tr th:only-of-type {\n",
       "        vertical-align: middle;\n",
       "    }\n",
       "\n",
       "    .dataframe tbody tr th {\n",
       "        vertical-align: top;\n",
       "    }\n",
       "\n",
       "    .dataframe thead th {\n",
       "        text-align: right;\n",
       "    }\n",
       "</style>\n",
       "<table border=\"1\" class=\"dataframe\">\n",
       "  <thead>\n",
       "    <tr style=\"text-align: right;\">\n",
       "      <th></th>\n",
       "      <th>GlobalID</th>\n",
       "      <th>Detection Date</th>\n",
       "      <th>Notes</th>\n",
       "      <th>Lab Status</th>\n",
       "      <th>Lab Comments</th>\n",
       "      <th>Submission Date</th>\n",
       "      <th>Latitude</th>\n",
       "      <th>Longitude</th>\n",
       "      <th>FileName</th>\n",
       "    </tr>\n",
       "  </thead>\n",
       "  <tbody>\n",
       "    <tr>\n",
       "      <th>2</th>\n",
       "      <td>{13B67BCB-AFCE-4100-AD2B-76EF178BA228}</td>\n",
       "      <td>2020-01-15</td>\n",
       "      <td>Massive loss of bees, decapitated. No hornet s...</td>\n",
       "      <td>Unverified</td>\n",
       "      <td></td>\n",
       "      <td>2020-01-15</td>\n",
       "      <td>48.939200</td>\n",
       "      <td>-122.661300</td>\n",
       "      <td>ATT3.png</td>\n",
       "    </tr>\n",
       "    <tr>\n",
       "      <th>4</th>\n",
       "      <td>{BBBA5BA0-CAFB-43D3-8F1D-FB2D9CF777E0}</td>\n",
       "      <td>2019-08-31</td>\n",
       "      <td>I was cleaning my gutters when I heard a snapp...</td>\n",
       "      <td>Unverified</td>\n",
       "      <td>Thanks for this report. I can't verify it from...</td>\n",
       "      <td>2020-02-14</td>\n",
       "      <td>48.723779</td>\n",
       "      <td>-122.354431</td>\n",
       "      <td>ATT8.png</td>\n",
       "    </tr>\n",
       "    <tr>\n",
       "      <th>5</th>\n",
       "      <td>{EB4746A1-5A8B-4D7D-9149-D560988238EC}</td>\n",
       "      <td>2019-10-15</td>\n",
       "      <td>We found about a dozen of these bees in our ba...</td>\n",
       "      <td>Unverified</td>\n",
       "      <td>Thanks for your submission. Here's hoping they...</td>\n",
       "      <td>2020-02-27</td>\n",
       "      <td>48.986176</td>\n",
       "      <td>-122.697450</td>\n",
       "      <td>NaN</td>\n",
       "    </tr>\n",
       "    <tr>\n",
       "      <th>7</th>\n",
       "      <td>{E6ADE6FB-0BD3-43EC-8E75-72EFC6F029FB}</td>\n",
       "      <td>2020-03-01</td>\n",
       "      <td>Reported to Washington Invasive Species Counci...</td>\n",
       "      <td>Unverified</td>\n",
       "      <td></td>\n",
       "      <td>2020-03-02</td>\n",
       "      <td>48.186024</td>\n",
       "      <td>-122.344680</td>\n",
       "      <td>NaN</td>\n",
       "    </tr>\n",
       "    <tr>\n",
       "      <th>10</th>\n",
       "      <td>{0AF6F3AA-8565-4B8F-8BF5-8D43D9677FE2}</td>\n",
       "      <td>2019-07-17</td>\n",
       "      <td></td>\n",
       "      <td>Unverified</td>\n",
       "      <td>Thank you for your submission. Since there is ...</td>\n",
       "      <td>2020-03-19</td>\n",
       "      <td>47.487496</td>\n",
       "      <td>-118.958142</td>\n",
       "      <td>NaN</td>\n",
       "    </tr>\n",
       "  </tbody>\n",
       "</table>\n",
       "</div>"
      ],
      "text/plain": [
       "                                  GlobalID Detection Date  \\\n",
       "2   {13B67BCB-AFCE-4100-AD2B-76EF178BA228}     2020-01-15   \n",
       "4   {BBBA5BA0-CAFB-43D3-8F1D-FB2D9CF777E0}     2019-08-31   \n",
       "5   {EB4746A1-5A8B-4D7D-9149-D560988238EC}     2019-10-15   \n",
       "7   {E6ADE6FB-0BD3-43EC-8E75-72EFC6F029FB}     2020-03-01   \n",
       "10  {0AF6F3AA-8565-4B8F-8BF5-8D43D9677FE2}     2019-07-17   \n",
       "\n",
       "                                                Notes  Lab Status  \\\n",
       "2   Massive loss of bees, decapitated. No hornet s...  Unverified   \n",
       "4   I was cleaning my gutters when I heard a snapp...  Unverified   \n",
       "5   We found about a dozen of these bees in our ba...  Unverified   \n",
       "7   Reported to Washington Invasive Species Counci...  Unverified   \n",
       "10                                                     Unverified   \n",
       "\n",
       "                                         Lab Comments Submission Date  \\\n",
       "2                                                          2020-01-15   \n",
       "4   Thanks for this report. I can't verify it from...      2020-02-14   \n",
       "5   Thanks for your submission. Here's hoping they...      2020-02-27   \n",
       "7                                                          2020-03-02   \n",
       "10  Thank you for your submission. Since there is ...      2020-03-19   \n",
       "\n",
       "     Latitude   Longitude  FileName  \n",
       "2   48.939200 -122.661300  ATT3.png  \n",
       "4   48.723779 -122.354431  ATT8.png  \n",
       "5   48.986176 -122.697450       NaN  \n",
       "7   48.186024 -122.344680       NaN  \n",
       "10  47.487496 -118.958142       NaN  "
      ]
     },
     "execution_count": 34,
     "metadata": {},
     "output_type": "execute_result"
    },
    {
     "name": "stdout",
     "output_type": "stream",
     "text": [
      "<class 'pandas.core.frame.DataFrame'>\n",
      "Int64Index: 2284 entries, 2 to 4354\n",
      "Data columns (total 9 columns):\n",
      " #   Column           Non-Null Count  Dtype  \n",
      "---  ------           --------------  -----  \n",
      " 0   GlobalID         2284 non-null   object \n",
      " 1   Detection Date   2284 non-null   object \n",
      " 2   Notes            2284 non-null   object \n",
      " 3   Lab Status       2284 non-null   object \n",
      " 4   Lab Comments     2284 non-null   object \n",
      " 5   Submission Date  2284 non-null   object \n",
      " 6   Latitude         2284 non-null   float64\n",
      " 7   Longitude        2284 non-null   float64\n",
      " 8   FileName         66 non-null     object \n",
      "dtypes: float64(2), object(7)\n",
      "memory usage: 178.4+ KB\n"
     ]
    }
   ],
   "source": [
    "data = pd.read_csv(\"data/processed_data.csv\")\n",
    "unverified_data = data[data['Lab Status'] == 'Unverified'].dropna(subset=['Lab Comments'])\n",
    "unverified_data.head()\n",
    "unverified_data.info()"
   ]
  },
  {
   "cell_type": "code",
   "execution_count": 35,
   "metadata": {},
   "outputs": [],
   "source": [
    "with open('data/dictionary/negative_comments_dictionary.txt') as file:\n",
    "    negative_comments_dict = json.loads(file.read().replace('\\'', '\\\"'))"
   ]
  },
  {
   "cell_type": "code",
   "execution_count": 36,
   "metadata": {},
   "outputs": [],
   "source": [
    "with open('data/dictionary/positive_comments_dictionary.txt') as file:\n",
    "    positive_comments_dict = json.loads(file.read().replace('\\'', '\\\"'))"
   ]
  },
  {
   "cell_type": "code",
   "execution_count": 37,
   "metadata": {},
   "outputs": [],
   "source": [
    "NEGATIVE_TOTAL_WEIGHT = 0\n",
    "POSITIVE_TOTAL_WEIGHT = 0"
   ]
  },
  {
   "cell_type": "code",
   "execution_count": 38,
   "metadata": {},
   "outputs": [
    {
     "name": "stdout",
     "output_type": "stream",
     "text": [
      "10.44704344163784\n"
     ]
    }
   ],
   "source": [
    "for key, value in negative_comments_dict.items():\n",
    "    NEGATIVE_TOTAL_WEIGHT += value\n",
    "print(NEGATIVE_TOTAL_WEIGHT)"
   ]
  },
  {
   "cell_type": "code",
   "execution_count": 39,
   "metadata": {},
   "outputs": [
    {
     "name": "stdout",
     "output_type": "stream",
     "text": [
      "1.5255468912853747\n"
     ]
    }
   ],
   "source": [
    "for key, value in positive_comments_dict.items():\n",
    "    POSITIVE_TOTAL_WEIGHT += value\n",
    "print(POSITIVE_TOTAL_WEIGHT)"
   ]
  },
  {
   "cell_type": "code",
   "execution_count": 40,
   "metadata": {},
   "outputs": [],
   "source": [
    "def get_negative_degree(comment: str) -> float:\n",
    "    degree = 0.0\n",
    "    for key, value in negative_comments_dict.items():\n",
    "        if key in comment:\n",
    "            degree += value\n",
    "\n",
    "    return degree"
   ]
  },
  {
   "cell_type": "code",
   "execution_count": 41,
   "metadata": {},
   "outputs": [],
   "source": [
    "def get_positive_degree(comment: str) -> float:\n",
    "    degree = 0.0\n",
    "    for key, value in positive_comments_dict.items():\n",
    "        if key in comment:\n",
    "            degree += value\n",
    "\n",
    "    return degree"
   ]
  },
  {
   "cell_type": "code",
   "execution_count": 42,
   "metadata": {},
   "outputs": [],
   "source": [
    "unverified_data['negative_degree'] = unverified_data['Lab Comments'].map(get_negative_degree)\n",
    "unverified_data['positive_degree'] = unverified_data['Lab Comments'].map(get_positive_degree)"
   ]
  },
  {
   "cell_type": "code",
   "execution_count": 45,
   "metadata": {},
   "outputs": [],
   "source": [
    "unverified_data.to_csv(\"data/unverified_samples_text_match_degree.csv\", index=False, encoding='utf_8_sig')"
   ]
  }
 ],
 "metadata": {
  "kernelspec": {
   "display_name": "Python 3",
   "language": "python",
   "name": "python3"
  },
  "language_info": {
   "codemirror_mode": {
    "name": "ipython",
    "version": 3
   },
   "file_extension": ".py",
   "mimetype": "text/x-python",
   "name": "python",
   "nbconvert_exporter": "python",
   "pygments_lexer": "ipython3",
   "version": "3.7.6"
  }
 },
 "nbformat": 4,
 "nbformat_minor": 4
}
