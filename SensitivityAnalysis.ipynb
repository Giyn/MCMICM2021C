{
 "cells": [
  {
   "cell_type": "code",
   "execution_count": 4,
   "metadata": {},
   "outputs": [],
   "source": [
    "from SALib.sample import saltelli\n",
    "from SALib.analyze import sobol\n",
    "\n",
    "import numpy as np\n",
    "import pandas as pd\n",
    "import math"
   ]
  },
  {
   "cell_type": "code",
   "execution_count": 11,
   "metadata": {},
   "outputs": [
    {
     "name": "stdout",
     "output_type": "stream",
     "text": [
      "Parameter S1 S1_conf ST ST_conf\n",
      "x1 0.080398 0.024075 0.079541 0.007768\n",
      "x2 0.178819 0.039058 0.184864 0.015640\n",
      "x3 0.184616 0.034374 0.184705 0.017624\n",
      "x4 0.543256 0.056422 0.543852 0.039386\n",
      "\n",
      "Parameter_1 Parameter_2 S2 S2_conf\n",
      "x1 x2 -0.000759 0.033767\n",
      "x1 x3 -0.000874 0.036753\n",
      "x1 x4 -0.002056 0.038930\n",
      "x2 x3 0.010618 0.059247\n",
      "x2 x4 0.007605 0.066591\n",
      "x3 x4 -0.004191 0.061767\n"
     ]
    }
   ],
   "source": [
    "# 模型输入\n",
    "problem = {\n",
    "    'num_vars': 4,\n",
    "    'names': ['x1', 'x2', 'x3', 'x4'],\n",
    "    'bounds': [[0, 1],\n",
    "               [0, 1],\n",
    "               [0, 1],\n",
    "               [-8, -2]]\n",
    "}\n",
    "\n",
    "def evaluate(X):\n",
    "    return np.array([x[0] * 0.2245 - x[1] * 0.2452 + x[2] * 0.2452 + x[3] * 0.2851 for x in X])\n",
    "\n",
    "# 生成数据\n",
    "param_values = saltelli.sample(problem, 1000)\n",
    "\n",
    "# 运行模型\n",
    "Y = evaluate(param_values)\n",
    "\n",
    "# 灵敏度分析结果\n",
    "Si = sobol.analyze(problem, Y, print_to_console=True)"
   ]
  },
  {
   "cell_type": "code",
   "execution_count": 12,
   "metadata": {},
   "outputs": [
    {
     "data": {
      "image/png": "[encoded data removed]",
      "text/plain": [
       "<Figure size 432x288 with 1 Axes>"
      ]
     },
     "metadata": {
      "needs_background": "light"
     },
     "output_type": "display_data"
    }
   ],
   "source": [
    "from SALib.plotting.bar import plot as barplot\n",
    "import matplotlib.pyplot as plot\n",
    "\n",
    "Si_df = Si.to_df()\n",
    "img = barplot(Si_df[0])\n",
    "plot.show()\n",
    "fig = img.get_figure()\n",
    "fig.savefig(\"data/SensitivityAnalysis.png\", dpi=300, bbox_inches='tight', facecolor='white')"
   ]
  }
 ],
 "metadata": {
  "kernelspec": {
   "display_name": "PyCharm (MCMICM2020C)",
   "language": "python",
   "name": "pycharm-40a75171"
  },
  "language_info": {
   "codemirror_mode": {
    "name": "ipython",
    "version": 3
   },
   "file_extension": ".py",
   "mimetype": "text/x-python",
   "name": "python",
   "nbconvert_exporter": "python",
   "pygments_lexer": "ipython3",
   "version": "3.7.7"
  }
 },
 "nbformat": 4,
 "nbformat_minor": 4
}
