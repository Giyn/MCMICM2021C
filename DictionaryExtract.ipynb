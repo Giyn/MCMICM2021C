{
 "cells": [
  {
   "cell_type": "markdown",
   "metadata": {},
   "source": [
    "# NLP"
   ]
  },
  {
   "cell_type": "markdown",
   "metadata": {},
   "source": [
    "## 相关设置"
   ]
  },
  {
   "cell_type": "code",
   "execution_count": 3,
   "metadata": {},
   "outputs": [],
   "source": [
    "from IPython.core.interactiveshell import InteractiveShell\n",
    "from utils.TF_IDF import tf_idf\n",
    "\n",
    "import nltk\n",
    "import pandas as pd\n",
    "import numpy as np\n",
    "import PIL.Image as image\n",
    "import seaborn as sns\n",
    "import matplotlib.pyplot as plt\n",
    "\n",
    "from summa import keywords\n",
    "from wordcloud import WordCloud\n",
    "from nltk import FreqDist\n",
    "from nltk.corpus import stopwords\n",
    "from nltk.tokenize import word_tokenize, sent_tokenize\n",
    "from vaderSentiment.vaderSentiment import SentimentIntensityAnalyzer\n",
    "\n",
    "\n",
    "InteractiveShell.ast_node_interactivity = \"all\"  # 一个cell显示多输出\n",
    "\n",
    "pd.set_option('display.max_rows', 100)  # 设置最大显示100行\n",
    "pd.set_option('display.max_columns', 100)  # 设置最大显示100列"
   ]
  },
  {
   "cell_type": "code",
   "execution_count": 4,
   "metadata": {},
   "outputs": [],
   "source": [
    "data = pd.read_csv(\"data/processed_data.csv\")"
   ]
  },
  {
   "cell_type": "code",
   "execution_count": 5,
   "metadata": {},
   "outputs": [
    {
     "data": {
      "text/html": [
       "<div>\n",
       "<style scoped>\n",
       "    .dataframe tbody tr th:only-of-type {\n",
       "        vertical-align: middle;\n",
       "    }\n",
       "\n",
       "    .dataframe tbody tr th {\n",
       "        vertical-align: top;\n",
       "    }\n",
       "\n",
       "    .dataframe thead th {\n",
       "        text-align: right;\n",
       "    }\n",
       "</style>\n",
       "<table border=\"1\" class=\"dataframe\">\n",
       "  <thead>\n",
       "    <tr style=\"text-align: right;\">\n",
       "      <th></th>\n",
       "      <th>GlobalID</th>\n",
       "      <th>Detection Date</th>\n",
       "      <th>Notes</th>\n",
       "      <th>Lab Status</th>\n",
       "      <th>Lab Comments</th>\n",
       "      <th>Submission Date</th>\n",
       "      <th>Latitude</th>\n",
       "      <th>Longitude</th>\n",
       "      <th>FileName</th>\n",
       "    </tr>\n",
       "  </thead>\n",
       "  <tbody>\n",
       "    <tr>\n",
       "      <th>0</th>\n",
       "      <td>{5AC8034E-5B46-4294-85F0-5B13117EBEFE}</td>\n",
       "      <td>2019-12-08</td>\n",
       "      <td>One dead wasp seen in Blaine, and suspect flyi...</td>\n",
       "      <td>Positive ID</td>\n",
       "      <td></td>\n",
       "      <td>2020-01-15</td>\n",
       "      <td>48.980994</td>\n",
       "      <td>-122.688503</td>\n",
       "      <td>ATT1.png</td>\n",
       "    </tr>\n",
       "    <tr>\n",
       "      <th>1</th>\n",
       "      <td>{5EAD3364-2CA7-4A39-9A53-7F9DCF5D2041}</td>\n",
       "      <td>2019-10-30</td>\n",
       "      <td>Hornet specimen sent to WSU</td>\n",
       "      <td>Positive ID</td>\n",
       "      <td></td>\n",
       "      <td>2020-01-15</td>\n",
       "      <td>48.971949</td>\n",
       "      <td>-122.700941</td>\n",
       "      <td>ATT2.png</td>\n",
       "    </tr>\n",
       "    <tr>\n",
       "      <th>2</th>\n",
       "      <td>{13B67BCB-AFCE-4100-AD2B-76EF178BA228}</td>\n",
       "      <td>2020-01-15</td>\n",
       "      <td>Massive loss of bees, decapitated. No hornet s...</td>\n",
       "      <td>Unverified</td>\n",
       "      <td></td>\n",
       "      <td>2020-01-15</td>\n",
       "      <td>48.939200</td>\n",
       "      <td>-122.661300</td>\n",
       "      <td>ATT3.png</td>\n",
       "    </tr>\n",
       "    <tr>\n",
       "      <th>3</th>\n",
       "      <td>{124B9BFA-7F7B-4B8E-8A56-42E067F0F72E}</td>\n",
       "      <td>2019-09-19</td>\n",
       "      <td>This was the colony that was found and destroy...</td>\n",
       "      <td>Positive ID</td>\n",
       "      <td>Thanks for adding this, and the great pictures!</td>\n",
       "      <td>2020-02-04</td>\n",
       "      <td>49.149394</td>\n",
       "      <td>-123.943134</td>\n",
       "      <td>ATT7.png</td>\n",
       "    </tr>\n",
       "    <tr>\n",
       "      <th>4</th>\n",
       "      <td>{BBBA5BA0-CAFB-43D3-8F1D-FB2D9CF777E0}</td>\n",
       "      <td>2019-08-31</td>\n",
       "      <td>I was cleaning my gutters when I heard a snapp...</td>\n",
       "      <td>Unverified</td>\n",
       "      <td>Thanks for this report. I can't verify it from...</td>\n",
       "      <td>2020-02-14</td>\n",
       "      <td>48.723779</td>\n",
       "      <td>-122.354431</td>\n",
       "      <td>ATT8.png</td>\n",
       "    </tr>\n",
       "  </tbody>\n",
       "</table>\n",
       "</div>"
      ],
      "text/plain": [
       "                                 GlobalID Detection Date  \\\n",
       "0  {5AC8034E-5B46-4294-85F0-5B13117EBEFE}     2019-12-08   \n",
       "1  {5EAD3364-2CA7-4A39-9A53-7F9DCF5D2041}     2019-10-30   \n",
       "2  {13B67BCB-AFCE-4100-AD2B-76EF178BA228}     2020-01-15   \n",
       "3  {124B9BFA-7F7B-4B8E-8A56-42E067F0F72E}     2019-09-19   \n",
       "4  {BBBA5BA0-CAFB-43D3-8F1D-FB2D9CF777E0}     2019-08-31   \n",
       "\n",
       "                                               Notes   Lab Status  \\\n",
       "0  One dead wasp seen in Blaine, and suspect flyi...  Positive ID   \n",
       "1                        Hornet specimen sent to WSU  Positive ID   \n",
       "2  Massive loss of bees, decapitated. No hornet s...   Unverified   \n",
       "3  This was the colony that was found and destroy...  Positive ID   \n",
       "4  I was cleaning my gutters when I heard a snapp...   Unverified   \n",
       "\n",
       "                                        Lab Comments Submission Date  \\\n",
       "0                                                         2020-01-15   \n",
       "1                                                         2020-01-15   \n",
       "2                                                         2020-01-15   \n",
       "3    Thanks for adding this, and the great pictures!      2020-02-04   \n",
       "4  Thanks for this report. I can't verify it from...      2020-02-14   \n",
       "\n",
       "    Latitude   Longitude  FileName  \n",
       "0  48.980994 -122.688503  ATT1.png  \n",
       "1  48.971949 -122.700941  ATT2.png  \n",
       "2  48.939200 -122.661300  ATT3.png  \n",
       "3  49.149394 -123.943134  ATT7.png  \n",
       "4  48.723779 -122.354431  ATT8.png  "
      ]
     },
     "execution_count": 5,
     "metadata": {},
     "output_type": "execute_result"
    },
    {
     "name": "stdout",
     "output_type": "stream",
     "text": [
      "<class 'pandas.core.frame.DataFrame'>\n",
      "RangeIndex: 4368 entries, 0 to 4367\n",
      "Data columns (total 9 columns):\n",
      " #   Column           Non-Null Count  Dtype  \n",
      "---  ------           --------------  -----  \n",
      " 0   GlobalID         4368 non-null   object \n",
      " 1   Detection Date   4368 non-null   object \n",
      " 2   Notes            4368 non-null   object \n",
      " 3   Lab Status       4368 non-null   object \n",
      " 4   Lab Comments     4366 non-null   object \n",
      " 5   Submission Date  4368 non-null   object \n",
      " 6   Latitude         4368 non-null   float64\n",
      " 7   Longitude        4368 non-null   float64\n",
      " 8   FileName         2111 non-null   object \n",
      "dtypes: float64(2), object(7)\n",
      "memory usage: 307.2+ KB\n"
     ]
    }
   ],
   "source": [
    "data.head()\n",
    "data.info()"
   ]
  },
  {
   "cell_type": "markdown",
   "metadata": {},
   "source": [
    "## 选取 positive 样本"
   ]
  },
  {
   "cell_type": "code",
   "execution_count": 48,
   "metadata": {},
   "outputs": [
    {
     "data": {
      "text/html": [
       "<div>\n",
       "<style scoped>\n",
       "    .dataframe tbody tr th:only-of-type {\n",
       "        vertical-align: middle;\n",
       "    }\n",
       "\n",
       "    .dataframe tbody tr th {\n",
       "        vertical-align: top;\n",
       "    }\n",
       "\n",
       "    .dataframe thead th {\n",
       "        text-align: right;\n",
       "    }\n",
       "</style>\n",
       "<table border=\"1\" class=\"dataframe\">\n",
       "  <thead>\n",
       "    <tr style=\"text-align: right;\">\n",
       "      <th></th>\n",
       "      <th>GlobalID</th>\n",
       "      <th>Detection Date</th>\n",
       "      <th>Notes</th>\n",
       "      <th>Lab Status</th>\n",
       "      <th>Lab Comments</th>\n",
       "      <th>Submission Date</th>\n",
       "      <th>Latitude</th>\n",
       "      <th>Longitude</th>\n",
       "      <th>FileName</th>\n",
       "    </tr>\n",
       "  </thead>\n",
       "  <tbody>\n",
       "    <tr>\n",
       "      <th>0</th>\n",
       "      <td>{5AC8034E-5B46-4294-85F0-5B13117EBEFE}</td>\n",
       "      <td>2019-12-08</td>\n",
       "      <td>One dead wasp seen in Blaine, and suspect flyi...</td>\n",
       "      <td>Positive ID</td>\n",
       "      <td></td>\n",
       "      <td>2020-01-15</td>\n",
       "      <td>48.980994</td>\n",
       "      <td>-122.688503</td>\n",
       "      <td>ATT1.png</td>\n",
       "    </tr>\n",
       "    <tr>\n",
       "      <th>1</th>\n",
       "      <td>{5EAD3364-2CA7-4A39-9A53-7F9DCF5D2041}</td>\n",
       "      <td>2019-10-30</td>\n",
       "      <td>Hornet specimen sent to WSU</td>\n",
       "      <td>Positive ID</td>\n",
       "      <td></td>\n",
       "      <td>2020-01-15</td>\n",
       "      <td>48.971949</td>\n",
       "      <td>-122.700941</td>\n",
       "      <td>ATT2.png</td>\n",
       "    </tr>\n",
       "    <tr>\n",
       "      <th>3</th>\n",
       "      <td>{124B9BFA-7F7B-4B8E-8A56-42E067F0F72E}</td>\n",
       "      <td>2019-09-19</td>\n",
       "      <td>This was the colony that was found and destroy...</td>\n",
       "      <td>Positive ID</td>\n",
       "      <td>Thanks for adding this, and the great pictures!</td>\n",
       "      <td>2020-02-04</td>\n",
       "      <td>49.149394</td>\n",
       "      <td>-123.943134</td>\n",
       "      <td>ATT7.png</td>\n",
       "    </tr>\n",
       "    <tr>\n",
       "      <th>777</th>\n",
       "      <td>{AD56E8D0-CC43-45B5-B042-94D1712322B9}</td>\n",
       "      <td>2020-05-27</td>\n",
       "      <td></td>\n",
       "      <td>Positive ID</td>\n",
       "      <td>Specimen collected and verified by WSDA and US...</td>\n",
       "      <td>2020-05-27</td>\n",
       "      <td>48.955587</td>\n",
       "      <td>-122.661037</td>\n",
       "      <td>ATT256.png</td>\n",
       "    </tr>\n",
       "    <tr>\n",
       "      <th>867</th>\n",
       "      <td>{F1864CC3-508C-4E60-9098-B158AB413B03}</td>\n",
       "      <td>2019-11-13</td>\n",
       "      <td></td>\n",
       "      <td>Positive ID</td>\n",
       "      <td>Photograph only, confirmed by provincial gover...</td>\n",
       "      <td>2020-06-01</td>\n",
       "      <td>49.025831</td>\n",
       "      <td>-122.810653</td>\n",
       "      <td>NaN</td>\n",
       "    </tr>\n",
       "    <tr>\n",
       "      <th>899</th>\n",
       "      <td>{1C6D0EAB-F68D-411D-974E-1233618854CC}</td>\n",
       "      <td>2020-05-15</td>\n",
       "      <td>Specimen collected by citizen scientist and re...</td>\n",
       "      <td>Positive ID</td>\n",
       "      <td>Added by WSDA</td>\n",
       "      <td>2020-06-05</td>\n",
       "      <td>49.060215</td>\n",
       "      <td>-122.641648</td>\n",
       "      <td>ATT369.png</td>\n",
       "    </tr>\n",
       "    <tr>\n",
       "      <th>954</th>\n",
       "      <td>{FC6E894B-F6DF-4FDC-853A-D7372D253988}</td>\n",
       "      <td>2020-06-07</td>\n",
       "      <td></td>\n",
       "      <td>Positive ID</td>\n",
       "      <td>Thank you for submitting this depressing sight...</td>\n",
       "      <td>2020-06-12</td>\n",
       "      <td>48.777534</td>\n",
       "      <td>-122.418612</td>\n",
       "      <td>ATT422.png</td>\n",
       "    </tr>\n",
       "    <tr>\n",
       "      <th>1012</th>\n",
       "      <td>{7F3B6DB6-2ED4-4415-8DC2-3F03EC88F353}</td>\n",
       "      <td>2019-09-30</td>\n",
       "      <td>Insects observed late Sept or early Oct</td>\n",
       "      <td>Positive ID</td>\n",
       "      <td>Thank you for contacting us with photographs, ...</td>\n",
       "      <td>2020-06-15</td>\n",
       "      <td>48.993892</td>\n",
       "      <td>-122.702242</td>\n",
       "      <td>ATT472.png</td>\n",
       "    </tr>\n",
       "    <tr>\n",
       "      <th>3215</th>\n",
       "      <td>{A717D86F-23E9-4C8C-9F12-198A71113E93}</td>\n",
       "      <td>2020-08-17</td>\n",
       "      <td>Spotted at outdoor dining in Birch Bay, posted...</td>\n",
       "      <td>Positive ID</td>\n",
       "      <td></td>\n",
       "      <td>2020-08-24</td>\n",
       "      <td>48.927519</td>\n",
       "      <td>-122.745016</td>\n",
       "      <td>ATT2302.png</td>\n",
       "    </tr>\n",
       "    <tr>\n",
       "      <th>4063</th>\n",
       "      <td>{2138197A-F5CF-4308-93E2-62EA6F84D098}</td>\n",
       "      <td>2020-09-21</td>\n",
       "      <td>We caught and killed 2, 2nd on September 25th</td>\n",
       "      <td>Positive ID</td>\n",
       "      <td>Thank you for submitting this important find, ...</td>\n",
       "      <td>2020-09-26</td>\n",
       "      <td>48.984269</td>\n",
       "      <td>-122.574809</td>\n",
       "      <td>ATT3067.png</td>\n",
       "    </tr>\n",
       "    <tr>\n",
       "      <th>4141</th>\n",
       "      <td>{0FAC3767-EAC4-477A-B5F0-24AF8A40BD09}</td>\n",
       "      <td>2020-09-30</td>\n",
       "      <td>doorbell cam image</td>\n",
       "      <td>Positive ID</td>\n",
       "      <td></td>\n",
       "      <td>2020-10-01</td>\n",
       "      <td>48.979497</td>\n",
       "      <td>-122.581335</td>\n",
       "      <td>ATT3141.png</td>\n",
       "    </tr>\n",
       "    <tr>\n",
       "      <th>4142</th>\n",
       "      <td>{BEAC832C-0783-414A-9354-C297F38570AD}</td>\n",
       "      <td>2020-10-01</td>\n",
       "      <td>Dead hornet in light</td>\n",
       "      <td>Positive ID</td>\n",
       "      <td></td>\n",
       "      <td>2020-10-01</td>\n",
       "      <td>48.983375</td>\n",
       "      <td>-122.582465</td>\n",
       "      <td>ATT3142.png</td>\n",
       "    </tr>\n",
       "    <tr>\n",
       "      <th>4143</th>\n",
       "      <td>{DEF5D82B-E326-41A5-9B6C-D46DCD86950C}</td>\n",
       "      <td>2020-09-29</td>\n",
       "      <td>Live hornet captured by WSDA staff</td>\n",
       "      <td>Positive ID</td>\n",
       "      <td></td>\n",
       "      <td>2020-10-01</td>\n",
       "      <td>48.984172</td>\n",
       "      <td>-122.574720</td>\n",
       "      <td>NaN</td>\n",
       "    </tr>\n",
       "    <tr>\n",
       "      <th>4271</th>\n",
       "      <td>{AA461F47-1B2B-4EA1-8154-ECF70B55A334}</td>\n",
       "      <td>2020-09-28</td>\n",
       "      <td>WSDA submitted for citizen report</td>\n",
       "      <td>Positive ID</td>\n",
       "      <td></td>\n",
       "      <td>2020-10-12</td>\n",
       "      <td>48.984220</td>\n",
       "      <td>-122.574726</td>\n",
       "      <td>NaN</td>\n",
       "    </tr>\n",
       "  </tbody>\n",
       "</table>\n",
       "</div>"
      ],
      "text/plain": [
       "                                    GlobalID Detection Date  \\\n",
       "0     {5AC8034E-5B46-4294-85F0-5B13117EBEFE}     2019-12-08   \n",
       "1     {5EAD3364-2CA7-4A39-9A53-7F9DCF5D2041}     2019-10-30   \n",
       "3     {124B9BFA-7F7B-4B8E-8A56-42E067F0F72E}     2019-09-19   \n",
       "777   {AD56E8D0-CC43-45B5-B042-94D1712322B9}     2020-05-27   \n",
       "867   {F1864CC3-508C-4E60-9098-B158AB413B03}     2019-11-13   \n",
       "899   {1C6D0EAB-F68D-411D-974E-1233618854CC}     2020-05-15   \n",
       "954   {FC6E894B-F6DF-4FDC-853A-D7372D253988}     2020-06-07   \n",
       "1012  {7F3B6DB6-2ED4-4415-8DC2-3F03EC88F353}     2019-09-30   \n",
       "3215  {A717D86F-23E9-4C8C-9F12-198A71113E93}     2020-08-17   \n",
       "4063  {2138197A-F5CF-4308-93E2-62EA6F84D098}     2020-09-21   \n",
       "4141  {0FAC3767-EAC4-477A-B5F0-24AF8A40BD09}     2020-09-30   \n",
       "4142  {BEAC832C-0783-414A-9354-C297F38570AD}     2020-10-01   \n",
       "4143  {DEF5D82B-E326-41A5-9B6C-D46DCD86950C}     2020-09-29   \n",
       "4271  {AA461F47-1B2B-4EA1-8154-ECF70B55A334}     2020-09-28   \n",
       "\n",
       "                                                  Notes   Lab Status  \\\n",
       "0     One dead wasp seen in Blaine, and suspect flyi...  Positive ID   \n",
       "1                           Hornet specimen sent to WSU  Positive ID   \n",
       "3     This was the colony that was found and destroy...  Positive ID   \n",
       "777                                                      Positive ID   \n",
       "867                                                      Positive ID   \n",
       "899   Specimen collected by citizen scientist and re...  Positive ID   \n",
       "954                                                      Positive ID   \n",
       "1012            Insects observed late Sept or early Oct  Positive ID   \n",
       "3215  Spotted at outdoor dining in Birch Bay, posted...  Positive ID   \n",
       "4063      We caught and killed 2, 2nd on September 25th  Positive ID   \n",
       "4141                                 doorbell cam image  Positive ID   \n",
       "4142                               Dead hornet in light  Positive ID   \n",
       "4143                 Live hornet captured by WSDA staff  Positive ID   \n",
       "4271                  WSDA submitted for citizen report  Positive ID   \n",
       "\n",
       "                                           Lab Comments Submission Date  \\\n",
       "0                                                            2020-01-15   \n",
       "1                                                            2020-01-15   \n",
       "3       Thanks for adding this, and the great pictures!      2020-02-04   \n",
       "777   Specimen collected and verified by WSDA and US...      2020-05-27   \n",
       "867   Photograph only, confirmed by provincial gover...      2020-06-01   \n",
       "899                                       Added by WSDA      2020-06-05   \n",
       "954   Thank you for submitting this depressing sight...      2020-06-12   \n",
       "1012  Thank you for contacting us with photographs, ...      2020-06-15   \n",
       "3215                                                         2020-08-24   \n",
       "4063  Thank you for submitting this important find, ...      2020-09-26   \n",
       "4141                                                         2020-10-01   \n",
       "4142                                                         2020-10-01   \n",
       "4143                                                         2020-10-01   \n",
       "4271                                                         2020-10-12   \n",
       "\n",
       "       Latitude   Longitude     FileName  \n",
       "0     48.980994 -122.688503     ATT1.png  \n",
       "1     48.971949 -122.700941     ATT2.png  \n",
       "3     49.149394 -123.943134     ATT7.png  \n",
       "777   48.955587 -122.661037   ATT256.png  \n",
       "867   49.025831 -122.810653          NaN  \n",
       "899   49.060215 -122.641648   ATT369.png  \n",
       "954   48.777534 -122.418612   ATT422.png  \n",
       "1012  48.993892 -122.702242   ATT472.png  \n",
       "3215  48.927519 -122.745016  ATT2302.png  \n",
       "4063  48.984269 -122.574809  ATT3067.png  \n",
       "4141  48.979497 -122.581335  ATT3141.png  \n",
       "4142  48.983375 -122.582465  ATT3142.png  \n",
       "4143  48.984172 -122.574720          NaN  \n",
       "4271  48.984220 -122.574726          NaN  "
      ]
     },
     "execution_count": 48,
     "metadata": {},
     "output_type": "execute_result"
    },
    {
     "name": "stdout",
     "output_type": "stream",
     "text": [
      "<class 'pandas.core.frame.DataFrame'>\n",
      "Int64Index: 14 entries, 0 to 4271\n",
      "Data columns (total 9 columns):\n",
      " #   Column           Non-Null Count  Dtype  \n",
      "---  ------           --------------  -----  \n",
      " 0   GlobalID         14 non-null     object \n",
      " 1   Detection Date   14 non-null     object \n",
      " 2   Notes            14 non-null     object \n",
      " 3   Lab Status       14 non-null     object \n",
      " 4   Lab Comments     14 non-null     object \n",
      " 5   Submission Date  14 non-null     object \n",
      " 6   Latitude         14 non-null     float64\n",
      " 7   Longitude        14 non-null     float64\n",
      " 8   FileName         11 non-null     object \n",
      "dtypes: float64(2), object(7)\n",
      "memory usage: 1.1+ KB\n"
     ]
    }
   ],
   "source": [
    "positive_data = data[data['Lab Status'] == 'Positive ID']\n",
    "positive_data.head(15)\n",
    "positive_data.info()"
   ]
  },
  {
   "cell_type": "markdown",
   "metadata": {},
   "source": [
    "## 去除停用词"
   ]
  },
  {
   "cell_type": "code",
   "execution_count": 7,
   "metadata": {},
   "outputs": [],
   "source": [
    "stop_words = stopwords.words('english')\n",
    "\n",
    "def remove_stopwords(rev):\n",
    "    rev = rev.apply(lambda x: ' '.join([w for w in x.split() if len(w)>2]))\n",
    "    rev_new = rev.apply(lambda x:\" \".join([w for w in x.split() if w not in stop_words]))\n",
    "    rev_new = rev_new.apply(str.lower)\n",
    "\n",
    "    return rev_new"
   ]
  },
  {
   "cell_type": "markdown",
   "metadata": {},
   "source": [
    "## 词频统计"
   ]
  },
  {
   "cell_type": "code",
   "execution_count": 8,
   "metadata": {},
   "outputs": [],
   "source": [
    "def freq_words(x, terms=20):\n",
    "    all_words = ' '.join([text for text in x])\n",
    "    all_words = all_words.split()\n",
    "\n",
    "    fdist = FreqDist(all_words)\n",
    "    words_df = pd.DataFrame({'word':list(fdist.keys()), 'count':list(fdist.values())})\n",
    "\n",
    "    # selecting top 20 most frequent words\n",
    "    d = words_df.nlargest(columns=\"count\", n=terms)\n",
    "    plt.figure()\n",
    "    ax = sns.barplot(data=d, x=\"count\", y=\"word\")\n",
    "    ax.set(ylabel='word')"
   ]
  },
  {
   "cell_type": "markdown",
   "metadata": {},
   "source": [
    "## 去除停用词后进行词频统计"
   ]
  },
  {
   "cell_type": "code",
   "execution_count": 9,
   "metadata": {},
   "outputs": [
    {
     "data": {
      "image/png": "[encoded data removed]",
      "text/plain": [
       "<Figure size 432x288 with 1 Axes>"
      ]
     },
     "metadata": {
      "needs_background": "light"
     },
     "output_type": "display_data"
    }
   ],
   "source": [
    "freq_words(remove_stopwords(positive_data['Notes']))"
   ]
  },
  {
   "cell_type": "code",
   "execution_count": 10,
   "metadata": {},
   "outputs": [
    {
     "data": {
      "image/png": "[encoded data removed]",
      "text/plain": [
       "<Figure size 432x288 with 1 Axes>"
      ]
     },
     "metadata": {
      "needs_background": "light"
     },
     "output_type": "display_data"
    }
   ],
   "source": [
    "freq_words(remove_stopwords(positive_data['Lab Comments']))"
   ]
  },
  {
   "cell_type": "markdown",
   "metadata": {},
   "source": [
    "## positive 样本评论词云图"
   ]
  },
  {
   "cell_type": "code",
   "execution_count": 11,
   "metadata": {},
   "outputs": [
    {
     "data": {
      "text/plain": [
       "<wordcloud.wordcloud.WordCloud at 0x22ae9b0b708>"
      ]
     },
     "execution_count": 11,
     "metadata": {},
     "output_type": "execute_result"
    },
    {
     "data": {
      "text/plain": [
       "<matplotlib.image.AxesImage at 0x22ae99e1f08>"
      ]
     },
     "execution_count": 11,
     "metadata": {},
     "output_type": "execute_result"
    },
    {
     "data": {
      "text/plain": [
       "(-0.5, 799.5, 799.5, -0.5)"
      ]
     },
     "execution_count": 11,
     "metadata": {},
     "output_type": "execute_result"
    },
    {
     "data": {
      "image/png": "[encoded data removed]",
      "text/plain": [
       "<Figure size 432x288 with 1 Axes>"
      ]
     },
     "metadata": {
      "needs_background": "light"
     },
     "output_type": "display_data"
    }
   ],
   "source": [
    "positive_data_notes = \" \".join(remove_stopwords(positive_data['Notes']).tolist())\n",
    "positive_mask = np.array(image.open(\"data/AGH.png\"))\n",
    "positive_notes_wordcloud = WordCloud(mask=positive_mask, \n",
    "                                     background_color='#FFFFFF', \n",
    "                                     repeat=False).generate(positive_data_notes)\n",
    "positive_notes_wordcloud.to_file(\"data/wordcloud_images/positive_notes_wordcloud.png\")\n",
    "plt.imshow(positive_notes_wordcloud, interpolation='bilinear')\n",
    "plt.axis(\"off\") # 去掉坐标轴"
   ]
  },
  {
   "cell_type": "code",
   "execution_count": 12,
   "metadata": {},
   "outputs": [
    {
     "data": {
      "text/plain": [
       "<wordcloud.wordcloud.WordCloud at 0x22ae9c43b88>"
      ]
     },
     "execution_count": 12,
     "metadata": {},
     "output_type": "execute_result"
    },
    {
     "data": {
      "text/plain": [
       "<matplotlib.image.AxesImage at 0x22ae9ebe588>"
      ]
     },
     "execution_count": 12,
     "metadata": {},
     "output_type": "execute_result"
    },
    {
     "data": {
      "text/plain": [
       "(-0.5, 799.5, 799.5, -0.5)"
      ]
     },
     "execution_count": 12,
     "metadata": {},
     "output_type": "execute_result"
    },
    {
     "data": {
      "image/png": "[encoded data removed]",
      "text/plain": [
       "<Figure size 432x288 with 1 Axes>"
      ]
     },
     "metadata": {
      "needs_background": "light"
     },
     "output_type": "display_data"
    }
   ],
   "source": [
    "positive_data_comments = \" \".join(remove_stopwords(positive_data['Lab Comments']).tolist())\n",
    "positive_mask = np.array(image.open(\"data/AGH.png\"))\n",
    "positive_comments_wordcloud = WordCloud(mask=positive_mask, \n",
    "                                        background_color='#FFFFFF', \n",
    "                                        repeat=False).generate(positive_data_comments)\n",
    "positive_comments_wordcloud.to_file(\"data/wordcloud_images/positive_comments_wordcloud.png\")\n",
    "plt.imshow(positive_comments_wordcloud, interpolation='bilinear')\n",
    "plt.axis(\"off\") # 去掉坐标轴"
   ]
  },
  {
   "cell_type": "markdown",
   "metadata": {},
   "source": [
    "## 使用 TextRank 算法构建 positive 和 negative 样本的 Notes 和 Lab Comments 词典"
   ]
  },
  {
   "cell_type": "code",
   "execution_count": 19,
   "metadata": {},
   "outputs": [],
   "source": [
    "from utils.TF_IDF import tf_idf"
   ]
  },
  {
   "cell_type": "markdown",
   "metadata": {},
   "source": [
    "### positive notes"
   ]
  },
  {
   "cell_type": "code",
   "execution_count": 37,
   "metadata": {},
   "outputs": [
    {
     "name": "stdout",
     "output_type": "stream",
     "text": [
      "one dead wasp seen blaine, suspect flying nearby hornet specimen sent wsu this colony found destroyed nanaimo, sep 18, 2019. there ~150 live hornets ~600 unhatched eggs larvae   specimen collected citizen scientist reported provincial government.  insects observed late sept early oct spotted outdoor dining birch bay, posted wsda facebook site caught killed 2nd september 25th doorbell cam image dead hornet light live hornet captured wsda staff wsda submitted citizen report\n",
      "\n",
      "TF-IDF:\n",
      "{'one': 0.16494, 'wasp': 0.16494, 'seen': 0.16494, 'blain': 0.16494, 'suspect': 0.16494, 'sent': 0.32988, 'wsu': 0.32988, 'specimen': 0.12567, 'hornet': 0.10556, 'coloni': 0.09425, 'found': 0.09425, 'destroy': 0.09425, 'nanaimo': 0.09425, 'sep': 0.09425, 'collect': 0.1885, 'scientist': 0.1885, 'provinci': 0.1885, 'govern': 0.1885, 'insect': 0.21992, 'observ': 0.21992, 'late': 0.21992, 'sept': 0.21992, 'earli': 0.21992, 'spot': 0.14661, 'outdoor': 0.14661, 'dine': 0.14661, 'birch': 0.14661, 'bay': 0.14661, 'caught': 0.26391, 'kill': 0.26391, '2nd': 0.26391, 'septemb': 0.26391, '25th': 0.26391, 'doorbel': 0.43984, 'cam': 0.43984, 'imag': 0.43984, 'light': 0.43984, 'dead': 0.29323, 'captur': 0.26391, 'staff': 0.26391, 'live': 0.17594, 'wsda': 0.16494, 'submit': 0.32988, 'citizen': 0.21992, 'report': 0.21992}\n",
      "\n",
      "TextRank:\n",
      "{'hornets': 0.3421107752182008, 'hornet specimen': 0.27596228944242457, 'wsda': 0.2685600127418249, 'citizen': 0.20325251224124694, 'nanaimo': 0.1943796125530182, 'dead': 0.16270419048969365, 'reported': 0.15945952104809902, 'report': 0.15945952104809902, 'early oct spotted': 0.13243161978919019}\n"
     ]
    }
   ],
   "source": [
    "positive_notes = ' '.join(remove_stopwords(positive_data['Notes']).tolist())\n",
    "print(positive_notes)\n",
    "\n",
    "print('\\nTF-IDF:')\n",
    "positive_notes_tf_idf = tf_idf(remove_stopwords(positive_data['Notes']).tolist())\n",
    "print(positive_notes_tf_idf)\n",
    "\n",
    "print('\\nTextRank:')\n",
    "positive_notes_textrank = dict(keywords.keywords(positive_notes, scores=True))\n",
    "print(positive_notes_textrank)"
   ]
  },
  {
   "cell_type": "code",
   "execution_count": 38,
   "metadata": {},
   "outputs": [],
   "source": [
    "positive_notes_textrank['wsu'] = positive_notes_tf_idf['wsu']\n",
    "positive_notes_textrank['wasp'] = positive_notes_tf_idf['wasp']\n",
    "positive_notes_textrank['scientist'] = positive_notes_tf_idf['scientist']\n",
    "positive_notes_textrank['nanaimo'] = positive_notes_tf_idf['nanaimo']\n",
    "positive_notes_textrank['outdoor'] = positive_notes_tf_idf['outdoor']\n",
    "positive_notes_textrank['spot'] = positive_notes_tf_idf['spot']\n",
    "positive_notes_textrank['kill'] = positive_notes_tf_idf['kill']"
   ]
  },
  {
   "cell_type": "code",
   "execution_count": 39,
   "metadata": {},
   "outputs": [
    {
     "name": "stdout",
     "output_type": "stream",
     "text": [
      "{'hornets': 0.3421107752182008, 'hornet specimen': 0.27596228944242457, 'wsda': 0.2685600127418249, 'citizen': 0.20325251224124694, 'nanaimo': 0.09425, 'dead': 0.16270419048969365, 'reported': 0.15945952104809902, 'report': 0.15945952104809902, 'early oct spotted': 0.13243161978919019, 'wsu': 0.32988, 'wasp': 0.16494, 'scientist': 0.1885, 'outdoor': 0.14661, 'spot': 0.14661, 'kill': 0.26391}\n"
     ]
    }
   ],
   "source": [
    "print(positive_notes_textrank)"
   ]
  },
  {
   "cell_type": "code",
   "execution_count": 44,
   "metadata": {},
   "outputs": [
    {
     "data": {
      "text/plain": [
       "394"
      ]
     },
     "execution_count": 44,
     "metadata": {},
     "output_type": "execute_result"
    }
   ],
   "source": [
    "with open('./data/dictionary/positive_notes_dictionary.txt', 'w') as file:\n",
    "    file.write(str(positive_notes_textrank))"
   ]
  },
  {
   "cell_type": "markdown",
   "metadata": {},
   "source": [
    "### positive lab comments"
   ]
  },
  {
   "cell_type": "code",
   "execution_count": 41,
   "metadata": {},
   "outputs": [
    {
     "name": "stdout",
     "output_type": "stream",
     "text": [
      "  thanks adding this, great pictures! specimen collected verified wsda usda. great job, thank submission! photograph only, confirmed provincial government. site added wsda. added wsda thank submitting depressing sighting! thank contacting photographs, sending specimens!  thank submitting important find, retaining specimens.    \n",
      "\n",
      "TF-IDF:\n",
      "{'pictur': 0.32988, 'great': 0.21992, 'ad': 0.32988, 'thank': 0.08797, 'collect': 0.14661, 'verifi': 0.14661, 'usda': 0.14661, 'job': 0.14661, 'submiss': 0.14661, 'confirm': 0.1885, 'provinci': 0.1885, 'govern': 0.1885, 'site': 0.1885, 'photograph': 0.17594, 'wsda': 0.32988, 'depress': 0.32988, 'sight': 0.32988, 'submit': 0.14661, 'contact': 0.26391, 'send': 0.26391, 'specimen': 0.10996, 'import': 0.21992, 'find': 0.21992, 'retain': 0.21992}\n",
      "\n",
      "TextRank:\n",
      "{'thanks': 0.5153349387254322, 'thank': 0.5153349387254322, 'specimen': 0.34668658363919985, 'specimens': 0.34668658363919985, 'wsda': 0.26840069810083705, 'submitting': 0.2286630259061381}\n"
     ]
    }
   ],
   "source": [
    "positive_comments = ' '.join(remove_stopwords(positive_data['Lab Comments']).tolist())\n",
    "print(positive_comments)\n",
    "\n",
    "print('\\nTF-IDF:')\n",
    "positive_comments_tf_idf = tf_idf(remove_stopwords(positive_data['Lab Comments']).tolist())\n",
    "print(positive_comments_tf_idf)\n",
    "\n",
    "print('\\nTextRank:')\n",
    "positive_comments_textrank = dict(keywords.keywords(positive_comments, scores=True))\n",
    "print(positive_comments_textrank)"
   ]
  },
  {
   "cell_type": "code",
   "execution_count": 42,
   "metadata": {},
   "outputs": [
    {
     "data": {
      "text/plain": [
       "0.5153349387254322"
      ]
     },
     "execution_count": 42,
     "metadata": {},
     "output_type": "execute_result"
    },
    {
     "data": {
      "text/plain": [
       "0.5153349387254322"
      ]
     },
     "execution_count": 42,
     "metadata": {},
     "output_type": "execute_result"
    }
   ],
   "source": [
    "positive_comments_textrank.pop('thanks')\n",
    "positive_comments_textrank.pop('thank')\n",
    "positive_comments_textrank['usda'] = positive_comments_tf_idf['usda']\n",
    "positive_comments_textrank['confirm'] = positive_comments_tf_idf['confirm']"
   ]
  },
  {
   "cell_type": "code",
   "execution_count": 43,
   "metadata": {},
   "outputs": [
    {
     "name": "stdout",
     "output_type": "stream",
     "text": [
      "{'specimen': 0.34668658363919985, 'specimens': 0.34668658363919985, 'wsda': 0.26840069810083705, 'submitting': 0.2286630259061381, 'usda': 0.14661, 'confirm': 0.1885}\n"
     ]
    }
   ],
   "source": [
    "print(positive_comments_textrank)"
   ]
  },
  {
   "cell_type": "code",
   "execution_count": 46,
   "metadata": {},
   "outputs": [
    {
     "data": {
      "text/plain": [
       "166"
      ]
     },
     "execution_count": 46,
     "metadata": {},
     "output_type": "execute_result"
    }
   ],
   "source": [
    "with open('./data/dictionary/positive_comments_dictionary.txt', 'w') as file:\n",
    "    file.write(str(positive_comments_textrank))"
   ]
  },
  {
   "cell_type": "markdown",
   "metadata": {},
   "source": [
    "## 选取 negative 样本"
   ]
  },
  {
   "cell_type": "code",
   "execution_count": 49,
   "metadata": {},
   "outputs": [
    {
     "data": {
      "text/html": [
       "<div>\n",
       "<style scoped>\n",
       "    .dataframe tbody tr th:only-of-type {\n",
       "        vertical-align: middle;\n",
       "    }\n",
       "\n",
       "    .dataframe tbody tr th {\n",
       "        vertical-align: top;\n",
       "    }\n",
       "\n",
       "    .dataframe thead th {\n",
       "        text-align: right;\n",
       "    }\n",
       "</style>\n",
       "<table border=\"1\" class=\"dataframe\">\n",
       "  <thead>\n",
       "    <tr style=\"text-align: right;\">\n",
       "      <th></th>\n",
       "      <th>GlobalID</th>\n",
       "      <th>Detection Date</th>\n",
       "      <th>Notes</th>\n",
       "      <th>Lab Status</th>\n",
       "      <th>Lab Comments</th>\n",
       "      <th>Submission Date</th>\n",
       "      <th>Latitude</th>\n",
       "      <th>Longitude</th>\n",
       "      <th>FileName</th>\n",
       "    </tr>\n",
       "  </thead>\n",
       "  <tbody>\n",
       "    <tr>\n",
       "      <th>6</th>\n",
       "      <td>{C4F44511-EA53-4FCF-9422-E1C57703720D}</td>\n",
       "      <td>2020-02-29</td>\n",
       "      <td>I’m not sure what this is, but it was the bigg...</td>\n",
       "      <td>Negative ID</td>\n",
       "      <td>This is a large fly that mimics bees! Thanks f...</td>\n",
       "      <td>2020-02-29</td>\n",
       "      <td>48.729596</td>\n",
       "      <td>-122.480035</td>\n",
       "      <td>ATT9.png</td>\n",
       "    </tr>\n",
       "    <tr>\n",
       "      <th>8</th>\n",
       "      <td>{89C867F1-D5ED-48C8-9586-B705F5DA9838}</td>\n",
       "      <td>2019-09-07</td>\n",
       "      <td>slow moving, i have this in the freezer still ...</td>\n",
       "      <td>Negative ID</td>\n",
       "      <td>Thank you for this submission. This is a harml...</td>\n",
       "      <td>2020-03-18</td>\n",
       "      <td>47.395721</td>\n",
       "      <td>-123.105188</td>\n",
       "      <td>ATT11.png</td>\n",
       "    </tr>\n",
       "    <tr>\n",
       "      <th>9</th>\n",
       "      <td>{81670D96-4143-47B1-A9C8-83977892D53F}</td>\n",
       "      <td>2020-03-19</td>\n",
       "      <td>It landed on my window while working. It walke...</td>\n",
       "      <td>Negative ID</td>\n",
       "      <td>Hello! This one is a Yellowjacket:</td>\n",
       "      <td>2020-03-19</td>\n",
       "      <td>47.840041</td>\n",
       "      <td>-122.323562</td>\n",
       "      <td>ATT15.png</td>\n",
       "    </tr>\n",
       "    <tr>\n",
       "      <th>12</th>\n",
       "      <td>{D30895B7-3994-45A3-BD51-E5BA881833FD}</td>\n",
       "      <td>2019-08-30</td>\n",
       "      <td>Probably not an Asain Hornet but still a prett...</td>\n",
       "      <td>Negative ID</td>\n",
       "      <td>Hello! This is a native wood-boring wasp, in t...</td>\n",
       "      <td>2020-03-19</td>\n",
       "      <td>47.635058</td>\n",
       "      <td>-122.057332</td>\n",
       "      <td>ATT16.png</td>\n",
       "    </tr>\n",
       "    <tr>\n",
       "      <th>14</th>\n",
       "      <td>{1304CF55-4FF9-490F-AF5A-5719CD110A9D}</td>\n",
       "      <td>2020-03-23</td>\n",
       "      <td>Was on the garden hose. It stung (maybe just a...</td>\n",
       "      <td>Negative ID</td>\n",
       "      <td>This sounds more like a yellowjacket, which ar...</td>\n",
       "      <td>2020-03-24</td>\n",
       "      <td>48.743610</td>\n",
       "      <td>-122.439050</td>\n",
       "      <td>NaN</td>\n",
       "    </tr>\n",
       "  </tbody>\n",
       "</table>\n",
       "</div>"
      ],
      "text/plain": [
       "                                  GlobalID Detection Date  \\\n",
       "6   {C4F44511-EA53-4FCF-9422-E1C57703720D}     2020-02-29   \n",
       "8   {89C867F1-D5ED-48C8-9586-B705F5DA9838}     2019-09-07   \n",
       "9   {81670D96-4143-47B1-A9C8-83977892D53F}     2020-03-19   \n",
       "12  {D30895B7-3994-45A3-BD51-E5BA881833FD}     2019-08-30   \n",
       "14  {1304CF55-4FF9-490F-AF5A-5719CD110A9D}     2020-03-23   \n",
       "\n",
       "                                                Notes   Lab Status  \\\n",
       "6   I’m not sure what this is, but it was the bigg...  Negative ID   \n",
       "8   slow moving, i have this in the freezer still ...  Negative ID   \n",
       "9   It landed on my window while working. It walke...  Negative ID   \n",
       "12  Probably not an Asain Hornet but still a prett...  Negative ID   \n",
       "14  Was on the garden hose. It stung (maybe just a...  Negative ID   \n",
       "\n",
       "                                         Lab Comments Submission Date  \\\n",
       "6   This is a large fly that mimics bees! Thanks f...      2020-02-29   \n",
       "8   Thank you for this submission. This is a harml...      2020-03-18   \n",
       "9                Hello! This one is a Yellowjacket:        2020-03-19   \n",
       "12  Hello! This is a native wood-boring wasp, in t...      2020-03-19   \n",
       "14  This sounds more like a yellowjacket, which ar...      2020-03-24   \n",
       "\n",
       "     Latitude   Longitude   FileName  \n",
       "6   48.729596 -122.480035   ATT9.png  \n",
       "8   47.395721 -123.105188  ATT11.png  \n",
       "9   47.840041 -122.323562  ATT15.png  \n",
       "12  47.635058 -122.057332  ATT16.png  \n",
       "14  48.743610 -122.439050        NaN  "
      ]
     },
     "execution_count": 49,
     "metadata": {},
     "output_type": "execute_result"
    },
    {
     "name": "stdout",
     "output_type": "stream",
     "text": [
      "<class 'pandas.core.frame.DataFrame'>\n",
      "Int64Index: 2055 entries, 6 to 4353\n",
      "Data columns (total 9 columns):\n",
      " #   Column           Non-Null Count  Dtype  \n",
      "---  ------           --------------  -----  \n",
      " 0   GlobalID         2055 non-null   object \n",
      " 1   Detection Date   2055 non-null   object \n",
      " 2   Notes            2055 non-null   object \n",
      " 3   Lab Status       2055 non-null   object \n",
      " 4   Lab Comments     2055 non-null   object \n",
      " 5   Submission Date  2055 non-null   object \n",
      " 6   Latitude         2055 non-null   float64\n",
      " 7   Longitude        2055 non-null   float64\n",
      " 8   FileName         2030 non-null   object \n",
      "dtypes: float64(2), object(7)\n",
      "memory usage: 160.5+ KB\n"
     ]
    }
   ],
   "source": [
    "negative_data = data[data['Lab Status'] == 'Negative ID']\n",
    "negative_data.head()\n",
    "negative_data.info()"
   ]
  },
  {
   "cell_type": "markdown",
   "metadata": {},
   "source": [
    "## 去除停用词后进行词频统计"
   ]
  },
  {
   "cell_type": "code",
   "execution_count": 50,
   "metadata": {},
   "outputs": [
    {
     "data": {
      "image/png": "[encoded data removed]",
      "text/plain": [
       "<Figure size 432x288 with 1 Axes>"
      ]
     },
     "metadata": {
      "needs_background": "light"
     },
     "output_type": "display_data"
    }
   ],
   "source": [
    "freq_words(remove_stopwords(negative_data['Notes']))"
   ]
  },
  {
   "cell_type": "code",
   "execution_count": 51,
   "metadata": {},
   "outputs": [
    {
     "data": {
      "image/png": "[encoded data removed]",
      "text/plain": [
       "<Figure size 432x288 with 1 Axes>"
      ]
     },
     "metadata": {
      "needs_background": "light"
     },
     "output_type": "display_data"
    }
   ],
   "source": [
    "freq_words(remove_stopwords(negative_data['Lab Comments']))"
   ]
  },
  {
   "cell_type": "markdown",
   "metadata": {},
   "source": [
    "## negative 样本评论词云图"
   ]
  },
  {
   "cell_type": "code",
   "execution_count": 52,
   "metadata": {},
   "outputs": [
    {
     "data": {
      "text/plain": [
       "<wordcloud.wordcloud.WordCloud at 0x22ae9bdccc8>"
      ]
     },
     "execution_count": 52,
     "metadata": {},
     "output_type": "execute_result"
    },
    {
     "data": {
      "text/plain": [
       "<matplotlib.image.AxesImage at 0x22ac50efe88>"
      ]
     },
     "execution_count": 52,
     "metadata": {},
     "output_type": "execute_result"
    },
    {
     "data": {
      "text/plain": [
       "(-0.5, 799.5, 799.5, -0.5)"
      ]
     },
     "execution_count": 52,
     "metadata": {},
     "output_type": "execute_result"
    },
    {
     "data": {
      "image/png": "[encoded data removed]",
      "text/plain": [
       "<Figure size 432x288 with 1 Axes>"
      ]
     },
     "metadata": {
      "needs_background": "light"
     },
     "output_type": "display_data"
    }
   ],
   "source": [
    "negative_data_notes = \" \".join(remove_stopwords(negative_data['Notes']).tolist())\n",
    "negative_mask = np.array(image.open(\"data/AGH.png\"))\n",
    "negative_notes_wordcloud = WordCloud(mask=negative_mask, \n",
    "                                     background_color='#FFFFFF', \n",
    "                                     repeat=False).generate(negative_data_notes)\n",
    "negative_notes_wordcloud.to_file(\"data/wordcloud_images/negative_notes_wordcloud.png\")\n",
    "plt.imshow(negative_notes_wordcloud, interpolation='bilinear')\n",
    "plt.axis(\"off\") # 去掉坐标轴"
   ]
  },
  {
   "cell_type": "code",
   "execution_count": 53,
   "metadata": {},
   "outputs": [
    {
     "data": {
      "text/plain": [
       "<wordcloud.wordcloud.WordCloud at 0x22ae9b55648>"
      ]
     },
     "execution_count": 53,
     "metadata": {},
     "output_type": "execute_result"
    },
    {
     "data": {
      "text/plain": [
       "<matplotlib.image.AxesImage at 0x22ae790a388>"
      ]
     },
     "execution_count": 53,
     "metadata": {},
     "output_type": "execute_result"
    },
    {
     "data": {
      "text/plain": [
       "(-0.5, 799.5, 799.5, -0.5)"
      ]
     },
     "execution_count": 53,
     "metadata": {},
     "output_type": "execute_result"
    },
    {
     "data": {
      "image/png": "[encoded data removed]",
      "text/plain": [
       "<Figure size 432x288 with 1 Axes>"
      ]
     },
     "metadata": {
      "needs_background": "light"
     },
     "output_type": "display_data"
    }
   ],
   "source": [
    "negative_data_comments = \" \".join(remove_stopwords(negative_data['Lab Comments']).tolist())\n",
    "negative_mask = np.array(image.open(\"data/AGH.png\"))\n",
    "negative_comments_wordcloud = WordCloud(mask=negative_mask, \n",
    "                                        background_color='#FFFFFF', \n",
    "                                        repeat=False).generate(negative_data_comments)\n",
    "negative_comments_wordcloud.to_file(\"data/wordcloud_images/negative_comments_wordcloud.png\")\n",
    "plt.imshow(negative_comments_wordcloud, interpolation='bilinear')\n",
    "plt.axis(\"off\") # 去掉坐标轴"
   ]
  },
  {
   "cell_type": "markdown",
   "metadata": {},
   "source": [
    "### negative notes"
   ]
  },
  {
   "cell_type": "code",
   "execution_count": 56,
   "metadata": {},
   "outputs": [
    {
     "name": "stdout",
     "output_type": "stream",
     "text": [
      "\n",
      "TextRank:\n",
      "{'hornet': 0.28213452621625984, 'hornets': 0.28213452621625984, 'look': 0.18008614820929622, 'looked': 0.18008614820929622, 'bees wasps': 0.16613156557008907, 'seen': 0.16612215359729127, 'pictures': 0.15622867959280523, 'pictured': 0.15622867959280523, 'largely': 0.15249238429637965, 'photo': 0.138659056145725, 'insects': 0.13862685016961107, 'likes': 0.13613942795439823, 'deadly': 0.128118458732227, 'think saw': 0.1267183453850031, 'flies': 0.12550861490306753, 'wasp': 0.12544726077147872, 'near': 0.12120696159741542, 'nearly': 0.12120696159741542, 'landing': 0.11686058295240785, 'kill': 0.11426035359224777, 'killed': 0.11426035359224777, 'killing': 0.11426035359224777, 'inch': 0.11101284070935405, 'inches': 0.11101284070935405, 'ground': 0.10977968437484492, 'yard': 0.10908296849315012, 'yards': 0.10908296849315012, 'house': 0.10657873590038378, 'houses': 0.10657873590038378, 'tried fly': 0.10464526202654965, 'sure': 0.1020855774931877, 'huge bee buzzing': 0.10147381760286434, 'trapped': 0.1013604339245827, 'trap': 0.1013604339245827, 'traps': 0.1013604339245827, 'big': 0.09944138528899175, 'referring looks': 0.0994372424710161, 'size': 0.09862785317919155, 'sizing': 0.09862785317919155, 'sizes': 0.09862785317919155, 'sized': 0.09862785317919155, 'biggest looking': 0.09858089478448838, 'appeared': 0.09263827264457931, 'appear': 0.09263827264457931, 'appears': 0.09263827264457931, 'appearing': 0.09263827264457931, 'appearance': 0.09263827264457931, 'pictur neighbor': 0.09242834979513484, 'like washington': 0.09148650050328133, 'bodied': 0.0912077065823794, 'stinger': 0.08894335796561752, 'stingers': 0.08894335796561752, 'park': 0.08749436290430784, 'parked': 0.08749436290430784, 'landed window': 0.08703448411475581, 'bug flying': 0.08696587307841379, 'garden': 0.08599343759946823, 'gardener': 0.08599343759946823, 'gardening': 0.08599343759946823, 'gardened': 0.08599343759946823, 'likely die': 0.08541581470929607, 'try': 0.08378190915003178, 'large entire': 0.08311042992887316, 'cutting dead': 0.08221170616482218, 'capture': 0.08079289924179293, 'capturing': 0.08079289924179293, 'heads': 0.07991289468854929, 'headed': 0.07991289468854929, 'heading': 0.07991289468854929, 'wa': 0.07880064189392884, 'black': 0.07800451333470482, 'yellow': 0.07781460420583208, 'orange': 0.07776471656309292, 'orang': 0.07776471656309292, 'oranger': 0.07776471656309292, 'areas': 0.07744736551191032, 'photos distinct': 0.07733564864431922, 'jar': 0.07576248139570611, 'captured alive': 0.07492166071667969, 'flower': 0.07387800435722769, 'flowers': 0.07387800435722769, 'flowering': 0.07387800435722769, 'flowered': 0.07387800435722769, 'picture went inside': 0.07237181706125949, 'thinking': 0.07132268919445774, 'thinks': 0.07132268919445774, 'thought': 0.07055206503100034, 'color': 0.07000736163906786, 'coloring': 0.07000736163906786, 'coloration': 0.07000736163906786, 'colors': 0.07000736163906786, 'colored': 0.07000736163906786, 'notice': 0.06931148685914688, 'pools': 0.06916698977925365, 'pool': 0.06916698977925365, 'area outside': 0.06838024499619913, 'trees': 0.06599153152941961, 'tree': 0.06599153152941961, 'lived': 0.06589871991092136, 'lives': 0.06589871991092136, 'backyard': 0.06496622310554162, 'forested land': 0.06459095506414825, 'long sorry poor': 0.06256714894914168, 'hole': 0.061877474956738586, 'holes': 0.061877474956738586, 'water': 0.06026046688853349, 'waters': 0.06026046688853349, 'watered': 0.06026046688853349, 'body son': 0.05993864937801783, 'parking lot': 0.05923764477929318, 'spotted today': 0.058928330797328246, 'homes': 0.058807127570711284, 'moving': 0.058633124765503856, 'moves': 0.058633124765503856, 'video': 0.058055180632194094, 'type insect bit husband': 0.05798343785275943, 'lake': 0.05783914629235259, 'lakes': 0.05783914629235259, 'know': 0.05766101818792716, 'nests': 0.05698950305107531, 'nested': 0.05698950305107531, 'spot': 0.05614857314040137, 'spots': 0.05614857314040137, 'time': 0.055779496286266855, 'dog caught': 0.05557691965067746, 'murder': 0.055075282486083905, 'wants': 0.05476854790571795, 'wanted': 0.05476854790571795, 'wanting': 0.05476854790571795, 'got': 0.05401305268664978, 'island live': 0.05379701255034036, 'pic watering': 0.05375218598692942, 'husbands': 0.05232887448809268, 'believe asian': 0.05183251423668692, 'trying start nest': 0.051257309280792536, 'tri cities': 0.050991409407972574, 'deck': 0.05065468563668095, 'report': 0.05048372964840726, 'reported': 0.05048372964840726, 'reporting': 0.05048372964840726, 'golden gardens': 0.05001147691720834, 'trails': 0.04985570533502143, 'plant': 0.04876856205536568, 'plants': 0.04876856205536568, 'plantings': 0.04876856205536568, 'property': 0.04874587053023414, 'properties': 0.04874587053023414, 'wings': 0.0479288457735981, 'right': 0.047665350057828036, 'pics': 0.04724390508532535, 'away': 0.04669763294219197, 'little': 0.04616564295460757, 'located': 0.04612538451288612, 'location': 0.04612538451288612, 'locations': 0.04612538451288612, 'face': 0.045822258539809826, 'faced': 0.045822258539809826, 'specimen': 0.04575448601116151, 'door hit times': 0.04573042180063652, 'head came removed': 0.04560874908887505, 'took': 0.04410603924719521, 'moved patio': 0.04376308717926779, 'car': 0.04359468466377887, 'work': 0.04349341775780631, 'works': 0.04349341775780631, 'glass catch flew': 0.04246986636236478, 'road': 0.042176855703440506, 'aggressively': 0.04209708734100324, 'aggressive': 0.04209708734100324, 'giant': 0.04163934259875953, 'close': 0.041580373447359716, 'closely': 0.041580373447359716, 'working walked': 0.041211603731359486, 'attached': 0.04037932860908748, 'attachment': 0.04037932860908748, 'attach': 0.04037932860908748, 'week ago noticed': 0.040339347945195364, 'couple videos': 0.04001758745003283, 'day': 0.039702281543676984, 'swatted': 0.0395925599139151, 'swat': 0.0395925599139151, 'bag': 0.03947668420474437, 'bags': 0.03947668420474437, 'bagged': 0.03947668420474437, 'maybe': 0.039415886517846166, 'walk': 0.03892978970491267, 'driveway': 0.03826475875304617, 'home picked': 0.03817233970771296, 'make': 0.03798250892874953, 'makes': 0.03798250892874953, 'making': 0.03798250892874953, 'believed': 0.037047923946714176, 'believes': 0.037047923946714176, 'spray': 0.036972579357824636, 'sprayed': 0.036972579357824636, 'hitting': 0.03695294056374206, 'morning': 0.03646478516459334, 'sight': 0.035858497521536824, 'sightings': 0.035858497521536824, 'sighted': 0.035858497521536824, 'single windows': 0.03585741394846699, 'camera': 0.03508227130718852, 'able': 0.03503566165273356, 'died': 0.03469220146419391, 'dying': 0.03469220146419391, 'garage': 0.034456163397872955, 'garaged': 0.034456163397872955, 'insides': 0.0340785689680719, 'probably': 0.03392344733957858, 'images attaching': 0.033836638888270196, 'contained': 0.033794443078969894, 'containers': 0.033794443078969894, 'small': 0.03373855435384034, 'kept': 0.03364616810596526, 'hives': 0.03352678551104615, 'hive': 0.03352678551104615, 'dirt': 0.03316982821799895, 'half': 0.03291630108917511, 'halfs': 0.03291630108917511, 'grass': 0.0326566843212356, 'grasses': 0.0326566843212356, 'legs': 0.03245339576660307, 'leg': 0.03245339576660307, 'larger normal': 0.032203713126159876, 'bigger yellowjacket': 0.0318879551077713, 'living room wall': 0.031762522015139794, 'possible': 0.031272489902765495, 'possibly': 0.031272489902765495, 'cameras image': 0.031188110237320717, 'faces assume': 0.031169600105017778, 'lots': 0.03098092665427851, 'south': 0.030941766458434477, 'trail beach old': 0.030592308578833934, 'save': 0.030524949412189566, 'things showed': 0.030100546468916238, 'markings': 0.030075832057095554, 'marking': 0.030075832057095554, 'marked': 0.030075832057095554, 'stripes': 0.03000147201987814, 'striped': 0.03000147201987814, 'stripe': 0.03000147201987814, 'days later': 0.029933364250460226, 'years': 0.029691753649358124, 'year': 0.029691753649358124, 'observe': 0.029549069731492243, 'walking field observed bugs hovering': 0.0295097128550914, 'eat': 0.029432297638500863, 'west seattle hard': 0.02942428431040108, 'send': 0.02937397853897602, 'sending': 0.02937397853897602, 'second sighting': 0.028930991485190988, 'different': 0.02874970186938143, 'case': 0.028701538314212738, 'sons': 0.028669592173656264, 'neighbors': 0.02862801999746446, 'th': 0.028578954637161834, 'wooded': 0.028480413577436366, 'porch leave want confirm': 0.028339424232408972, 'sun': 0.028273635167596376, 'sunning': 0.028273635167596376, 'thing entered': 0.028219371548112892, 'tail wing tips': 0.02820617123799306, 'dogs playing': 0.02816544759993729, 'truck': 0.02787148185995125, 'plastic container': 0.02781024883525879, 'county': 0.027608510020316418, 'sitting': 0.027565401337194057, 'pretty': 0.027508289334740442, 'crawling': 0.027501012735579373, 'crawled': 0.027501012735579373, 'crawl': 0.027501012735579373, 'weeks': 0.02732121563160025, 'street': 0.027211020872726616, 'mint': 0.027080999571334377, 'guy eating': 0.026729794857818755, 'buzz': 0.02663111704679073, 'buzzed': 0.02663111704679073, 'saved submit': 0.026614494486178086, 'camping': 0.02656574725036067, 'camped': 0.02656574725036067, 'camp': 0.02656574725036067, 'similar': 0.02627800406666376, 'similarities': 0.02627800406666376, 'similarly': 0.02627800406666376, 'covered': 0.02623102252378451, 'cover': 0.02623102252378451, 'honey': 0.02618575980241797, 'honeys': 0.02618575980241797, 'unusual': 0.025875473218216816, 'unusually': 0.025875473218216816, 'unsure': 0.025689663224578666, 'needed': 0.02554449313256015, 'need': 0.02554449313256015, 'needs': 0.02554449313256015, 'clear': 0.025504185412610698, 'clearing': 0.025504185412610698, 'clearly': 0.025504185412610698, 'bushes': 0.02541471248879107, 'attacked': 0.02523775382198769, 'attack': 0.02523775382198769, 'spokane': 0.025130670596131704, 'wood fencing': 0.025129411393710815, 'stepped attacking': 0.024993983222521665, 'species': 0.024797447420585275, 'specie': 0.024797447420585275, 'step': 0.02475021262305564, 'steps': 0.02475021262305564, 'longer': 0.024444260909850545, 'neighborhood': 0.024434165660844852, 'sidewalk': 0.02442357582856337, 'yellowjackets': 0.02442190274455492, 'cut collected': 0.02431230467810123, 'past': 0.024247500861257258, 'pasts': 0.024247500861257258, 'guys': 0.02402729207713665, 'apartment': 0.023999389914178153, 'apartments': 0.023999389914178153, 'eye': 0.023952140595929493, 'eyes': 0.023952140595929493, 'eyed': 0.023952140595929493, 'dried': 0.023810780359856107, 'dry': 0.023810780359856107, 'quarter': 0.023758136323854314, 'burrow': 0.0235025482639745, 'burrowing': 0.0235025482639745, 'burrows': 0.0235025482639745, 'burrowed': 0.0235025482639745, 'ave': 0.023147201292300194, 'pointed': 0.02313483202064821, 'point': 0.02313483202064821, 'measured': 0.023116165061981022, 'measures': 0.023116165061981022, 'measure': 0.023116165061981022, 'measur': 0.023116165061981022, 'laying': 0.023090425181929497, 'layed': 0.023090425181929497, 'driving north': 0.022967876001700402, 'site': 0.022767556078355296, 'siting': 0.022767556078355296, 'sited': 0.022767556078355296, 'submitted': 0.022704039560166606, 'submitting': 0.022704039560166606, 'coming': 0.022689594205750018, 'come': 0.022689594205750018, 'comes': 0.022689594205750018, 'green': 0.022485531703446807, 'dig': 0.02236823416397901, 'digging': 0.02236823416397901, 'digs': 0.02236823416397901, 'jacket': 0.022364194227504654, 'jackets': 0.022364194227504654, 'spider': 0.022340061000168242, 'spiders': 0.022340061000168242, 'approximate': 0.022146513457053332, 'snoqualmie river': 0.022035675988252325, 'seconds': 0.02200348544884515, 'hardly': 0.021906770551350523, 'chairs': 0.021906331062202446, 'chair': 0.021906331062202446, 'fence': 0.021778409209985264, 'building': 0.02150705521669321, 'build': 0.02150705521669321, 'length dark': 0.021354547209254254, 'types': 0.02112781136543858, 'going': 0.02103138993792345, 'hand approximately': 0.020978842693827777, 'included': 0.020872908142822864, 'include': 0.020872908142822864, 'creek': 0.020855195790863295, 'kid': 0.020764437154589192, 'friend': 0.020737379561028238, 'friends': 0.020737379561028238, 'earlier': 0.02068957049139976, 'end': 0.020542230734382112, 'ended': 0.020542230734382112, 'bush brush': 0.020471193124012275, 'web': 0.02036230879959019, 'light': 0.02035596251416682, 'loud': 0.0201208150558618, 'phone': 0.019996807368560514, 'hands': 0.01981117193060222, 'falling apart': 0.019807575039982685, 'hope': 0.019640468717021232, 'hopefully': 0.019640468717021232, 'match': 0.019524000427667623, 'matches': 0.019524000427667623, 'matched': 0.019524000427667623, 'way': 0.01948565701641018, 'identify': 0.01943060484416667, 'identified': 0.01943060484416667, 'identifier': 0.01943060484416667, 'identifies': 0.01943060484416667, 'seeing': 0.019237299865177415, 'hovered': 0.019120770205866257, 'hover': 0.019120770205866257, 'rocks': 0.019056125972991736, 'rock': 0.019056125972991736, 'kind': 0.019011783058954127, 'kinds': 0.019011783058954127, 'afternoon': 0.018795902827899603, 'returning': 0.01879431377515425, 'return': 0.01879431377515425, 'reference': 0.018788336732735965, 'set': 0.018746659785963456, 'sets': 0.018746659785963456, 'setting': 0.018746659785963456, 'rough measurement': 0.018731588043117187, 'shoe': 0.018642676182568676, 'smashed': 0.018527854309593028, 'smashing': 0.018527854309593028, 'fell including': 0.01845987304126572, 'taken': 0.01833382792024358, 'stinging': 0.018309526151689154, 'sting': 0.018309526151689154, 'approx': 0.018223589670880995, 'city': 0.018200909665913364, 'base': 0.018175280596888506, 'based': 0.018175280596888506, 'check': 0.01810460479957934, 'checking': 0.01810460479957934, 'checked': 0.01810460479957934, 'floating kids': 0.018088476772536735, 'drive': 0.018054208075957125, 'squished': 0.018010081989773344, 'squish': 0.018010081989773344, 'left': 0.01797169094870441, 'hill': 0.017914027162536976, 'hills': 0.017914027162536976, 'stunned': 0.017907698629986934, 'stun': 0.017907698629986934, 'screen': 0.017832014419798283, 'thorax': 0.0177958560126017, 'chased': 0.01777851697574278, 'chasing': 0.01777851697574278, 'chase': 0.01777851697574278, 'pick': 0.01753755184471463, 'picking': 0.01753755184471463, 'east': 0.017482639222733975, 'brown': 0.01742839005181159, 'heard': 0.017009277563854144, 'slowly': 0.017007165613224275, 'stuck': 0.01681771199519918, 'minutes': 0.016807562865147212, 'minute': 0.016807562865147212, 'st': 0.016801798480626323, 'showing': 0.016723501455111565, 'shows': 0.016723501455111565, 'definitely': 0.016698042182557552, 'definite': 0.016698042182557552, 'approached': 0.016694009282595516, 'approach': 0.016694009282595516, 'approaching': 0.016694009282595516, 'windshield': 0.01655740699981091, 'assuming': 0.016516941670225733, 'leaf': 0.016487945002611224, 'grasshopper': 0.016487442341802914, 'wondering': 0.016437623930989544, 'wondered': 0.016437623930989544, 'wonder': 0.016437623930989544, 'good': 0.01643509410844368, 'concerned': 0.0164271824243377, 'concerning': 0.0164271824243377, 'concern': 0.0164271824243377, 'antennae': 0.016367083159488986, 'antenna': 0.016367083159488986, 'antennas': 0.016367083159488986, 'shot': 0.016273245519519575, 'pm': 0.016098754329338452, 'low': 0.01602479402382192, 'distinctly': 0.01601224114291345, 'distinctive': 0.01601224114291345, 'ants': 0.015981264772232658, 'stop': 0.01595849223297384, 'stopping': 0.01595849223297384, 'stopped': 0.01595849223297384, 'new': 0.01594595211315849, 'travel': 0.015749668336727553, 'traveling': 0.015749668336727553, 'travels': 0.015749668336727553, 'traveled': 0.015749668336727553, 'say': 0.015687044839836753, 'says': 0.015687044839836753, 'saying': 0.015687044839836753, 'rd': 0.015640952038019736, 'falls': 0.015615760165787217, 'fall': 0.015615760165787217, 'knock': 0.015546114535218971, 'knocked': 0.015546114535218971, 'knocking': 0.015546114535218971, 'brushed': 0.015527673759233482, 'brushing': 0.015527673759233482, 'placing': 0.015513919512826555, 'place': 0.015513919512826555, 'placed': 0.015513919512826555, 'play': 0.01548688227118842, 'sent': 0.015478729361778836, 'float': 0.01541251639048428, 'white': 0.01533138356398516, 'zoomed': 0.01532281616483652, 'zoome': 0.01532281616483652, 'yesterday': 0.015262491289751467, 'certain': 0.015237963664716817, 'highly': 0.015220695711569745, 'high': 0.015220695711569745, 'evening returned visiting': 0.015204384863652652, 'unable': 0.015103041463554382, 'abdomen': 0.015059331649579195, 'weeds': 0.015019850981628311, 'weeding': 0.015019850981628311, 'weed': 0.015019850981628311, 'grill': 0.014957021047286778, 'grille': 0.014957021047286778, 'air': 0.014824448707166373, 'currently': 0.01477889526883744, 'attracted': 0.014734127383082787, 'mason': 0.014728899182586805, 'stay': 0.014725044309916837, 'blackberries': 0.014680654504209578, 'blackberry': 0.014680654504209578, 'cleaning': 0.014677949487746181, 'clean': 0.014677949487746181, 'summer': 0.014583651150885599, 'attracts sorts': 0.014567937584242588, 'piece': 0.014565779033293078, 'pieces': 0.014565779033293078, 'paper': 0.014564001024202737, 'helpful': 0.01453213515918296, 'help': 0.01453213515918296, 'helping': 0.01453213515918296, 'helps': 0.01453213515918296, 'walkway wife': 0.01449399573521526, 'sand': 0.014461360036290994, 'sort': 0.01440174778540239, 'apologize': 0.01437654708481817, 'apologies': 0.01437654708481817, 'multiple': 0.01436202072482752, 'roughly': 0.014347011024253353, 'port': 0.014249459580112615, 'farm': 0.014126700731173907, 'exact': 0.014107773109205012, 'exactly': 0.014107773109205012, 'actually': 0.014081470188145493, 'pile': 0.014072783944026135, 'slightly': 0.014070389707786792, 'discovered': 0.013976104034068378, 'idea': 0.013960026229210935, 'leaves': 0.013791553211989807, 'typical': 0.013772985227067934, 'typically': 0.013772985227067934, 'ring': 0.013755641608735205, 'rings': 0.013755641608735205, 'entirely': 0.013728475561366657, 'ones': 0.013714629953235932, 'tell': 0.013671731748574488, 'contact': 0.01366594610950258, 'visit': 0.013652190193141484, 'let': 0.013570022306305343, 'letting': 0.013570022306305343, 'campground': 0.01356768029006117, 'honeybees': 0.013561303648282015, 'honeybee': 0.013561303648282015, 'bald': 0.013516612195270469, 'certainly unlike': 0.013498666202428133, 'security': 0.013474349005464535, 'mph stayed hood': 0.013425734111685258, 'oregano': 0.013360194017969175, 'creature': 0.01331979409356027, 'station': 0.01328854668629645, 'corner': 0.013276026436902686, 'post': 0.013242752666182335, 'nearby': 0.01321852940399526, 'active': 0.013103706087744546, 'activity': 0.013103706087744546, 'grab': 0.013092941639959952, 'grabbing': 0.013092941639959952, 'grabbed': 0.013092941639959952, 'started': 0.013000515641270529, 'usually': 0.012994684943270583, 'usual': 0.012994684943270583, 'called': 0.012992215143790386, 'entering': 0.012961151613504878, 'enter': 0.012961151613504878, 'repeatedly': 0.012816529205414567, 'repeated': 0.012816529205414567, 'hanging': 0.01280848919002375, 'hang': 0.01280848919002375, 'national wildlife': 0.012779638387283972, 'bellingham': 0.01276901756878004, 'school': 0.012768414901066873, 'prior': 0.012746395154928486, 'bay': 0.01274418277076434, 'pond': 0.012715021734934719, 'upside': 0.012699967387281724, 'smaller': 0.012698007390537367, 'removals': 0.012664618287757744, 'removal': 0.012664618287757744, 'estimated': 0.012631040701461682, 'estimating': 0.012631040701461682, 'estimate': 0.012631040701461682, 'great': 0.012502353202138805, 'scale': 0.012464072397148399, 'killer': 0.012376186317265536, 'killers': 0.012376186317265536, 'regular': 0.012375556468589, 'largest': 0.0123555636987776, 'forest': 0.012321327175888635, 'collect': 0.01231965575878509, 'tip': 0.012293651155311862, 'sign': 0.012285173803622942, 'signs': 0.012285173803622942, 'paths': 0.012238301989243151, 'path': 0.012238301989243151, 'bright': 0.012186935860297317, 'target': 0.012180443445281765, 'targets': 0.012180443445281765, 'read': 0.012170838705231833, 'reading': 0.012170838705231833, 'feet': 0.012142646614525889, 'local': 0.012101274928406191, 'bottle': 0.012024914643209761, 'washing': 0.012019766399909858, 'washed': 0.012019766399909858, 'lethargic': 0.011987350611285417, 'fast': 0.01189406270976498, 'laws': 0.011835701146848348, 'law': 0.011835701146848348, 'drove': 0.01182766240528376, 'feeding': 0.011804229013149242, 'feed': 0.011804229013149242, 'massive': 0.011792649104827736, 'confirmation': 0.011776760418395607, 'confirming': 0.011776760418395607, 'confirms': 0.011776760418395607, 'unlikely': 0.01175936874013945, 'news': 0.011737456687067455, 'pullman': 0.011716876291504275, 'red': 0.011709434674942192, 'chelan': 0.011647198682432436, 'center': 0.011641198669623983, 'state thank': 0.01162052776031353, 'cedar': 0.011619825053018125, 'cedars': 0.011619825053018125, 'safe': 0.011582952766435449, 'safely': 0.011582952766435449, 'far': 0.011582187408653476, 'bumblebee': 0.011533760928658167, 'bumblebees': 0.011533760928658167, 'fields': 0.011525803379425804, 'twice': 0.01150591193550715, 'upload': 0.011491987136935, 'uploaded': 0.011491987136935, 'uploading': 0.011491987136935, 'indicating': 0.01149060451011479, 'indicates': 0.01149060451011479, 'pest figured': 0.011461801807456293, 'vehicle': 0.01144606908581568, 'vehicles': 0.01144606908581568, 'inspection': 0.011443278592198488, 'figure': 0.01142084284313447, 'compared': 0.01133717486289966, 'compare': 0.01133717486289966, 'closer': 0.011334400010625946, 'valley': 0.011323365407945374, 'quickly': 0.01131926359620938, 'quick': 0.01131926359620938, 'potted': 0.011317677928575312, 'pot': 0.011317677928575312, 'pots': 0.011317677928575312, 'thanks': 0.011308559515427166, 'thankfully': 0.011308559515427166, 'stung': 0.01129215692706878, 'swimming': 0.011272043706026944, 'view': 0.011251318873651571}\n"
     ]
    }
   ],
   "source": [
    "negative_notes = ' '.join(remove_stopwords(negative_data['Notes']).tolist())\n",
    "# print(negative_notes)\n",
    "\n",
    "print('\\nTextRank:')\n",
    "negative_notes_textrank = dict(keywords.keywords(negative_notes, scores=True))\n",
    "print(negative_notes_textrank)"
   ]
  },
  {
   "cell_type": "code",
   "execution_count": 62,
   "metadata": {},
   "outputs": [
    {
     "name": "stdout",
     "output_type": "stream",
     "text": [
      "673\n"
     ]
    }
   ],
   "source": [
    "print(len(negative_notes_textrank))"
   ]
  },
  {
   "cell_type": "code",
   "execution_count": 63,
   "metadata": {},
   "outputs": [
    {
     "data": {
      "text/plain": [
       "21879"
      ]
     },
     "execution_count": 63,
     "metadata": {},
     "output_type": "execute_result"
    }
   ],
   "source": [
    "with open('./data/dictionary/negative_notes_dictionary.txt', 'w') as file:\n",
    "    file.write(str(negative_notes_textrank))"
   ]
  },
  {
   "cell_type": "markdown",
   "metadata": {},
   "source": [
    "### negative lab comments"
   ]
  },
  {
   "cell_type": "code",
   "execution_count": 67,
   "metadata": {},
   "outputs": [
    {
     "name": "stdout",
     "output_type": "stream",
     "text": [
      "\n",
      "TextRank:\n",
      "{'thank': 0.3973232318867209, 'like': 0.31711073409742185, 'likely': 0.31711073409742185, 'wasp': 0.30350867201872184, 'wasps': 0.30350867201872184, 'bees thanks': 0.27245297025484994, 'hornets': 0.19696666122397574, 'hornet': 0.19696666122397574, 'sawflies': 0.19204062367346733, 'beetle': 0.16374790255430413, 'beetles': 0.16374790255430413, 'bee': 0.147582708622979, 'look': 0.1470280308938437, 'looked': 0.1470280308938437, 'flying': 0.14525938945960395, 'flies': 0.14525938945960395, 'great': 0.12952184355672391, 'insect': 0.1291571728152105, 'insects': 0.1291571728152105, 'possibly': 0.12824355156220182, 'sawfly cimbex': 0.12086307069116989, 'cicadas': 0.11719188839792581, 'colored': 0.11585365302670445, 'coloring': 0.11585365302670445, 'colors': 0.11585365302670445, 'color': 0.11585365302670445, 'wood': 0.10850812356618081, 'woods': 0.10850812356618081, 'harmless native golden': 0.10722664402803228, 'yellowjacket': 0.10475543697156653, 'yellowjackets': 0.10475543697156653, 'nests': 0.10327026419849182, 'nest': 0.10327026419849182, 'horntail': 0.10296970843910025, 'cicada killer': 0.10089032992984734, 'submission': 0.09700528051478284, 'submissions': 0.09700528051478284, 'sure looks': 0.09149151685031981, 'bumble': 0.09131811653270878, 'large fly mimics': 0.0875513813525864, 'possible identify': 0.08545638178505272, 'killers': 0.08458877146176885, 'photo': 0.08323301088093259, 'photos': 0.08323301088093259, 'note': 0.08070584782261561, 'ground': 0.07634140159951161, 'genus': 0.07313611280179945, 'wing': 0.06980528088224201, 'tell': 0.06853328613842355, 'beauty': 0.0664791228341098, 'beautiful': 0.0664791228341098, 'urocerus': 0.06632909711945272, 'yellow jacket': 0.06509726713959851, 'beneficial hard': 0.06466851066729183, 'moth': 0.06443094114836326, 'moths': 0.06443094114836326, 'checking': 0.0640816263117655, 'species sphex': 0.06384472657476782, 'family': 0.06335360432165293, 'check cool': 0.0623466298035807, 'antennae': 0.06224241339129092, 'mimic': 0.06087590629841129, 'good': 0.06042317900758394, 'pollinator': 0.06022302825799155, 'pollinators': 0.06022302825799155, 'pollinating': 0.06022302825799155, 'pollinate': 0.06022302825799155, 'appears': 0.06021758800586008, 'time asian': 0.05924459203126156, 'jackets': 0.05710013088207926, 'female': 0.0549945962966576, 'picture': 0.05294013261483426, 'orange': 0.052038998549556105, 'clear wings': 0.050937449294987905, 'bald': 0.05073620014427932, 'shape': 0.05018708250968323, 'shaped': 0.05018708250968323, 'got': 0.04951684027713391, 'gorgeous': 0.04734976028645002, 'nice': 0.0462583689965838, 'correct': 0.045403881223573236, 'making appear': 0.045047424584307647, 'paper': 0.04443569837941446, 'different': 0.04432364407523619, 'difference': 0.04432364407523619, 'release': 0.04265339959536093, 'polistes': 0.04162666920321085, 'probably': 0.04155570193561639, 'elytra': 0.04108857819827218, 'clearwing': 0.04070078403677222, 'western': 0.04049041311664054, 'sting': 0.039638489349363676, 'stings': 0.039638489349363676, 'stinging': 0.039638489349363676, 'legs': 0.03898204425382424, 'sp': 0.03844450412554575, 'agh': 0.037726380546107025, 'county': 0.03752091264659229, 'yes': 0.03731443788227411, 'june': 0.03714575433920178, 'negative': 0.036617225329281036, 'abdominal': 0.036340464860568425, 'variety': 0.03620643701845917, 'little': 0.036011595868240855, 'tremex': 0.03582399552080758, 'definitely': 0.03511542366817823, 'sighting': 0.03487340169118714, 'sightings': 0.03487340169118714, 'eyes': 0.03361093495694917, 'sites': 0.033454526811070015, 'site': 0.033454526811070015, 'long': 0.03330970481239871, 'siricid': 0.03322622174873402, 'belong': 0.03315405724953789, 'okay': 0.03271613737039783, 'email wsu': 0.032325911285541374, 'ecosystems': 0.03216210867214756, 'ecosystem': 0.03216210867214756, 'pic': 0.03210673931577525, 'faced': 0.03207609216101405, 'face': 0.03207609216101405, 'clearly': 0.032069617707733804, 'known': 0.03201772827372117, 'trees': 0.032001325763618804, 'tree': 0.032001325763618804, 'washington': 0.031989821005226064, 'robber': 0.03157218970261244, 'gardens': 0.03084746301045727, 'garden': 0.03084746301045727, 'actually': 0.030305553261917216, 'chubby': 0.03028457114972419, 'humans': 0.030244276420405704, 'longhorn': 0.030108509364887372, 'make': 0.029877261162755207, 'lay': 0.029455453624219537, 'lays': 0.029455453624219537, 'ovipositor': 0.029407688579915676, 'ovipositors': 0.029407688579915676, 'let': 0.029228044911125534, 'stinger': 0.029207063934373827, 'stingers': 0.029207063934373827}\n"
     ]
    }
   ],
   "source": [
    "negative_comments = ' '.join(remove_stopwords(negative_data['Lab Comments']).tolist())\n",
    "# print(positive_comments)\n",
    "\n",
    "print('\\nTextRank:')\n",
    "negative_comments_textrank = dict(keywords.keywords(negative_comments, scores=True))\n",
    "print(negative_comments_textrank)"
   ]
  },
  {
   "cell_type": "code",
   "execution_count": 68,
   "metadata": {},
   "outputs": [
    {
     "data": {
      "text/plain": [
       "0.3973232318867209"
      ]
     },
     "execution_count": 68,
     "metadata": {},
     "output_type": "execute_result"
    },
    {
     "name": "stdout",
     "output_type": "stream",
     "text": [
      "140\n"
     ]
    }
   ],
   "source": [
    "negative_comments_textrank.pop('thank')\n",
    "print(len(negative_comments_textrank))"
   ]
  },
  {
   "cell_type": "code",
   "execution_count": 69,
   "metadata": {},
   "outputs": [
    {
     "data": {
      "text/plain": [
       "4507"
      ]
     },
     "execution_count": 69,
     "metadata": {},
     "output_type": "execute_result"
    }
   ],
   "source": [
    "with open('./data/dictionary/negative_comments_dictionary.txt', 'w') as file:\n",
    "    file.write(str(negative_comments_textrank))"
   ]
  }
 ],
 "metadata": {
  "kernelspec": {
   "display_name": "PyCharm (MCMICM2021C)",
   "language": "python",
   "name": "pycharm-3e5db8ef"
  },
  "language_info": {
   "codemirror_mode": {
    "name": "ipython",
    "version": 3
   },
   "file_extension": ".py",
   "mimetype": "text/x-python",
   "name": "python",
   "nbconvert_exporter": "python",
   "pygments_lexer": "ipython3",
   "version": "3.7.7"
  }
 },
 "nbformat": 4,
 "nbformat_minor": 4
}
