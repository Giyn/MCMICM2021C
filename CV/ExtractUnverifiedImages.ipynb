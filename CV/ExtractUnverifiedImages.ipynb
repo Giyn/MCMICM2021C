{
 "cells": [
  {
   "cell_type": "code",
   "execution_count": 9,
   "metadata": {},
   "outputs": [],
   "source": [
    "from IPython.core.interactiveshell import InteractiveShell\n",
    "\n",
    "import json\n",
    "import pickle\n",
    "import pandas as pd\n",
    "\n",
    "InteractiveShell.ast_node_interactivity = \"all\"  # 一个cell显示多输出\n",
    "\n",
    "pd.set_option('display.max_rows', 100)  # 设置最大显示100行\n",
    "pd.set_option('display.max_columns', 100)  # 设置最大显示100列"
   ]
  },
  {
   "cell_type": "code",
   "execution_count": 8,
   "metadata": {},
   "outputs": [
    {
     "data": {
      "text/html": [
       "<div>\n",
       "<style scoped>\n",
       "    .dataframe tbody tr th:only-of-type {\n",
       "        vertical-align: middle;\n",
       "    }\n",
       "\n",
       "    .dataframe tbody tr th {\n",
       "        vertical-align: top;\n",
       "    }\n",
       "\n",
       "    .dataframe thead th {\n",
       "        text-align: right;\n",
       "    }\n",
       "</style>\n",
       "<table border=\"1\" class=\"dataframe\">\n",
       "  <thead>\n",
       "    <tr style=\"text-align: right;\">\n",
       "      <th></th>\n",
       "      <th>GlobalID</th>\n",
       "      <th>Detection Date</th>\n",
       "      <th>Notes</th>\n",
       "      <th>Lab Status</th>\n",
       "      <th>Lab Comments</th>\n",
       "      <th>Submission Date</th>\n",
       "      <th>Latitude</th>\n",
       "      <th>Longitude</th>\n",
       "      <th>FileName</th>\n",
       "    </tr>\n",
       "  </thead>\n",
       "  <tbody>\n",
       "    <tr>\n",
       "      <th>2</th>\n",
       "      <td>{13B67BCB-AFCE-4100-AD2B-76EF178BA228}</td>\n",
       "      <td>2020-01-15</td>\n",
       "      <td>Massive loss of bees, decapitated. No hornet s...</td>\n",
       "      <td>Unverified</td>\n",
       "      <td></td>\n",
       "      <td>2020-01-15</td>\n",
       "      <td>48.939200</td>\n",
       "      <td>-122.661300</td>\n",
       "      <td>ATT3.png</td>\n",
       "    </tr>\n",
       "    <tr>\n",
       "      <th>4</th>\n",
       "      <td>{BBBA5BA0-CAFB-43D3-8F1D-FB2D9CF777E0}</td>\n",
       "      <td>2019-08-31</td>\n",
       "      <td>I was cleaning my gutters when I heard a snapp...</td>\n",
       "      <td>Unverified</td>\n",
       "      <td>Thanks for this report. I can't verify it from...</td>\n",
       "      <td>2020-02-14</td>\n",
       "      <td>48.723779</td>\n",
       "      <td>-122.354431</td>\n",
       "      <td>ATT8.png</td>\n",
       "    </tr>\n",
       "    <tr>\n",
       "      <th>34</th>\n",
       "      <td>{5F24255E-DACB-4FA1-A445-E084F631A843}</td>\n",
       "      <td>2019-09-18</td>\n",
       "      <td>I am not sure if this is this particular horne...</td>\n",
       "      <td>Unverified</td>\n",
       "      <td></td>\n",
       "      <td>2020-04-07</td>\n",
       "      <td>46.900618</td>\n",
       "      <td>-122.274347</td>\n",
       "      <td>ATT26.png</td>\n",
       "    </tr>\n",
       "    <tr>\n",
       "      <th>131</th>\n",
       "      <td>{98D817B8-BB8B-4C31-9A42-DEED4491599C}</td>\n",
       "      <td>2020-04-21</td>\n",
       "      <td>hi, I was out on a walk this evening in the tr...</td>\n",
       "      <td>Unverified</td>\n",
       "      <td></td>\n",
       "      <td>2020-04-21</td>\n",
       "      <td>47.586052</td>\n",
       "      <td>-122.007302</td>\n",
       "      <td>ATT74.png</td>\n",
       "    </tr>\n",
       "    <tr>\n",
       "      <th>140</th>\n",
       "      <td>{CC2AC369-5A44-4F20-A12F-DBE4FBA8A7C4}</td>\n",
       "      <td>2020-04-26</td>\n",
       "      <td>Please advise. Can't get a good photo. I don't...</td>\n",
       "      <td>Unverified</td>\n",
       "      <td>The yellow and orange colors together suggest ...</td>\n",
       "      <td>2020-04-26</td>\n",
       "      <td>45.735873</td>\n",
       "      <td>-122.645621</td>\n",
       "      <td>ATT80.png</td>\n",
       "    </tr>\n",
       "  </tbody>\n",
       "</table>\n",
       "</div>"
      ],
      "text/plain": [
       "                                   GlobalID Detection Date  \\\n",
       "2    {13B67BCB-AFCE-4100-AD2B-76EF178BA228}     2020-01-15   \n",
       "4    {BBBA5BA0-CAFB-43D3-8F1D-FB2D9CF777E0}     2019-08-31   \n",
       "34   {5F24255E-DACB-4FA1-A445-E084F631A843}     2019-09-18   \n",
       "131  {98D817B8-BB8B-4C31-9A42-DEED4491599C}     2020-04-21   \n",
       "140  {CC2AC369-5A44-4F20-A12F-DBE4FBA8A7C4}     2020-04-26   \n",
       "\n",
       "                                                 Notes  Lab Status  \\\n",
       "2    Massive loss of bees, decapitated. No hornet s...  Unverified   \n",
       "4    I was cleaning my gutters when I heard a snapp...  Unverified   \n",
       "34   I am not sure if this is this particular horne...  Unverified   \n",
       "131  hi, I was out on a walk this evening in the tr...  Unverified   \n",
       "140  Please advise. Can't get a good photo. I don't...  Unverified   \n",
       "\n",
       "                                          Lab Comments Submission Date  \\\n",
       "2                                                           2020-01-15   \n",
       "4    Thanks for this report. I can't verify it from...      2020-02-14   \n",
       "34                                                          2020-04-07   \n",
       "131                                                         2020-04-21   \n",
       "140  The yellow and orange colors together suggest ...      2020-04-26   \n",
       "\n",
       "      Latitude   Longitude   FileName  \n",
       "2    48.939200 -122.661300   ATT3.png  \n",
       "4    48.723779 -122.354431   ATT8.png  \n",
       "34   46.900618 -122.274347  ATT26.png  \n",
       "131  47.586052 -122.007302  ATT74.png  \n",
       "140  45.735873 -122.645621  ATT80.png  "
      ]
     },
     "execution_count": 8,
     "metadata": {},
     "output_type": "execute_result"
    },
    {
     "name": "stdout",
     "output_type": "stream",
     "text": [
      "66\n"
     ]
    }
   ],
   "source": [
    "data = pd.read_csv(\"../data/processed_data.csv\")\n",
    "unverified_images_data = data[data['Lab Status'] == 'Unverified'].dropna(subset=['FileName'])\n",
    "unverified_images_data.head()\n",
    "print(len(unverified_images_data))"
   ]
  },
  {
   "cell_type": "code",
   "execution_count": 16,
   "metadata": {},
   "outputs": [
    {
     "name": "stdout",
     "output_type": "stream",
     "text": [
      "['ATT3.png', 'ATT8.png', 'ATT26.png', 'ATT74.png', 'ATT80.png', 'ATT148.png', 'ATT174.png', 'ATT175.png', 'ATT271.png', 'ATT303.png', 'ATT349.png', 'ATT384.png', 'ATT395.png', 'ATT455.png', 'ATT466.png', 'ATT541.png', 'ATT549.png', 'ATT553.png', 'ATT576.png', 'ATT647.png', 'ATT680.png', 'ATT704.png', 'ATT756.png', 'ATT996.png', 'ATT1074.png', 'ATT1080.png', 'ATT1081.png', 'ATT1430.png', 'ATT1432.png', 'ATT1442.png', 'ATT1449.png', 'ATT1508.png', 'ATT1678.png', 'ATT1716.png', 'ATT1743.png', 'ATT1766.png', 'ATT1861.png', 'ATT1866.png', 'ATT2076.png', 'ATT2142.png', 'ATT2146.png', 'ATT2253.png', 'ATT2476.png', 'ATT2525.png', 'ATT2730.png', 'ATT2791.png', 'ATT2826.png', 'ATT2840.png', 'ATT2910.png', 'ATT2925.png', 'ATT2968.png', 'ATT2992.png', 'ATT3009.png', 'ATT3032.png', 'ATT3040.png', 'ATT3045.png', 'ATT3090.png', 'ATT3120.png', 'ATT3170.png', 'ATT3171.png', 'ATT3184.png', 'ATT3216.png', 'ATT3223.png', 'ATT3238.png', 'ATT3262.png', 'ATT3285.png']\n"
     ]
    }
   ],
   "source": [
    "unverified_images = list(unverified_images_data['FileName'].values)\n",
    "print(unverified_images)"
   ]
  },
  {
   "cell_type": "code",
   "execution_count": 18,
   "metadata": {},
   "outputs": [],
   "source": [
    "with open(\"unverified_images\", 'wb') as file:\n",
    "    pickle.dump(unverified_images, file)"
   ]
  }
 ],
 "metadata": {
  "kernelspec": {
   "display_name": "Python 3",
   "language": "python",
   "name": "python3"
  },
  "language_info": {
   "codemirror_mode": {
    "name": "ipython",
    "version": 3
   },
   "file_extension": ".py",
   "mimetype": "text/x-python",
   "name": "python",
   "nbconvert_exporter": "python",
   "pygments_lexer": "ipython3",
   "version": "3.7.6"
  }
 },
 "nbformat": 4,
 "nbformat_minor": 4
}
