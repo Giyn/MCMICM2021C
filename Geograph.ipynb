{
 "cells": [
  {
   "cell_type": "code",
   "execution_count": 7,
   "metadata": {},
   "outputs": [],
   "source": [
    "import pandas as pd\n",
    "import numpy as np\n",
    "import os\n",
    "import folium\n",
    "from folium import plugins\n",
    "import webbrowser\n",
    "import chardet\n",
    "from datetime import datetime\n",
    "\n",
    "# rawdata = \"\"\n",
    "# with open('2021_MCM_Problem_C_Data/2021MCMProblemC_DataSet.xlsx', 'r') as f:\n",
    "#     rawdata += f.readline()\n",
    "\n",
    "# chardet.detect(rawdata)\n",
    "\n",
    "data = pd.read_excel(\"2021_MCM_Problem_C_Data/2021MCMProblemC_DataSet.xlsx\", datetime = \"Detection Date\")\n",
    "\n",
    "for i in range(0, len(data)) :\n",
    "    if(isinstance(data.iloc[i][\"Detection Date\"], datetime)) : \n",
    "        data.loc[i, \"Detection Date\"] = data.iloc[i][\"Detection Date\"].year\n",
    "    else :\n",
    "        data.loc[i, \"Detection Date\"] = np.nan\n",
    "\n",
    "PosData2020 = data[(data[\"Detection Date\"] == 2020) & (data[\"Lab Status\"] == \"Positive ID\")]\n",
    "\n",
    "PosData2019 = data[(data[\"Detection Date\"] == 2019) & (data[\"Lab Status\"] == \"Positive ID\")]"
   ]
  },
  {
   "cell_type": "code",
   "execution_count": 8,
   "metadata": {},
   "outputs": [
    {
     "name": "stdout",
     "output_type": "stream",
     "text": [
      "2019: 49.024412000000005 : -122.96909459999999\n",
      "2020: 48.959598666666665 : -122.59492977777775\n"
     ]
    }
   ],
   "source": [
    "print(\"2019: {0} : {1}\".format(PosData2019[\"Latitude\"].mean(), PosData2019[\"Longitude\"].mean()))\n",
    "\n",
    "print(\"2020: {0} : {1}\".format(PosData2020[\"Latitude\"].mean(), PosData2020[\"Longitude\"].mean()))"
   ]
  },
  {
   "cell_type": "code",
   "execution_count": 28,
   "metadata": {},
   "outputs": [
    {
     "name": "stdout",
     "output_type": "stream",
     "text": [
      "834    -1.365456e+07\n",
      "956    -1.365241e+07\n",
      "1011   -1.362758e+07\n",
      "3279   -1.366391e+07\n",
      "4127   -1.364497e+07\n",
      "4206   -1.364569e+07\n",
      "4207   -1.364582e+07\n",
      "4208   -1.364496e+07\n",
      "4338   -1.364496e+07\n",
      "x                NaN\n",
      "y                NaN\n",
      "Name: x, dtype: float64\n"
     ]
    },
    {
     "name": "stderr",
     "output_type": "stream",
     "text": [
      "C:\\Users\\uzuki\\anaconda3\\lib\\site-packages\\pandas\\core\\indexing.py:965: SettingWithCopyWarning: \n",
      "A value is trying to be set on a copy of a slice from a DataFrame.\n",
      "Try using .loc[row_indexer,col_indexer] = value instead\n",
      "\n",
      "See the caveats in the documentation: https://pandas.pydata.org/pandas-docs/stable/user_guide/indexing.html#returning-a-view-versus-a-copy\n",
      "  self.obj[item] = s\n",
      "C:\\Users\\uzuki\\anaconda3\\lib\\site-packages\\bokeh\\io\\saving.py:126: UserWarning: save() called but no resources were supplied and output_file(...) was never called, defaulting to resources.CDN\n",
      "  warn(\"save() called but no resources were supplied and output_file(...) was never called, defaulting to resources.CDN\")\n",
      "C:\\Users\\uzuki\\anaconda3\\lib\\site-packages\\bokeh\\io\\saving.py:139: UserWarning: save() called but no title was supplied and output_file(...) was never called, using default title 'Bokeh Plot'\n",
      "  warn(\"save() called but no title was supplied and output_file(...) was never called, using default title 'Bokeh Plot'\")\n"
     ]
    },
    {
     "data": {
      "text/plain": [
       "True"
      ]
     },
     "execution_count": 28,
     "metadata": {},
     "output_type": "execute_result"
    }
   ],
   "source": [
    "import matplotlib.pyplot as plt\n",
    "from bokeh.plotting import figure, save\n",
    "from bokeh.models import GeoJSONDataSource\n",
    "import webbrowser\n",
    "import json\n",
    "\n",
    "\n",
    "with open(\"us-all-mainland.geo.json\", encoding=\"utf8\") as f:\n",
    "    temp_data = json.loads(f.read())\n",
    "\n",
    "def wgs84_to_web_mercator(df, lon=\"Longitude\", lat=\"Latitude\"):\n",
    "\n",
    "    k = 6378137\n",
    "    df.loc[:, \"x\"] = df[lon] * (k * np.pi/180.0)\n",
    "    df.loc[:, \"y\"] = np.log(np.tan((90 + df[lat]) * np.pi/360.0)) * k\n",
    "\n",
    "    return df\n",
    "\n",
    "PosData2020 = wgs84_to_web_mercator(PosData2020)\n",
    "\n",
    "print(PosData2020[\"x\"])\n",
    "\n",
    "def isInDC(district):\n",
    "    if 'woe-name' in district['properties'] and 'Washington' in district['properties']['woe-name']:\n",
    "        return True\n",
    "    \n",
    "    return False\n",
    "\n",
    "temp_data['features'] = list(filter(isInDC, temp_data['features']))\n",
    "\n",
    "DC_geo_source = GeoJSONDataSource(geojson=json.dumps(temp_data))\n",
    "\n",
    "p = figure(width=500, height=500)\n",
    "\n",
    "p.scatter(PosData2020[\"x\"], PosData2020[\"y\"])\n",
    "\n",
    "p.patches(xs='xs', ys='ys', source=DC_geo_source)\n",
    "\n",
    "save(obj=p, filename=\"DC_Map.html\")\n",
    "\n",
    "webbrowser.open(\"DC_Map.html\")"
   ]
  },
  {
   "cell_type": "code",
   "execution_count": null,
   "metadata": {},
   "outputs": [],
   "source": []
  }
 ],
 "metadata": {
  "kernelspec": {
   "display_name": "Python 3",
   "language": "python",
   "name": "python3"
  },
  "language_info": {
   "codemirror_mode": {
    "name": "ipython",
    "version": 3
   },
   "file_extension": ".py",
   "mimetype": "text/x-python",
   "name": "python",
   "nbconvert_exporter": "python",
   "pygments_lexer": "ipython3",
   "version": "3.7.6"
  }
 },
 "nbformat": 4,
 "nbformat_minor": 4
}
