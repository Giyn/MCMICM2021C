{
 "cells": [
  {
   "cell_type": "code",
   "execution_count": 1,
   "metadata": {},
   "outputs": [],
   "source": [
    "import pandas as pd\n",
    "import numpy as np\n",
    "import os\n",
    "import folium\n",
    "from folium import plugins\n",
    "import webbrowser\n",
    "import chardet\n",
    "from datetime import datetime\n",
    "\n",
    "# rawdata = \"\"\n",
    "# with open('2021_MCM_Problem_C_Data/2021MCMProblemC_DataSet.xlsx', 'r') as f:\n",
    "#     rawdata += f.readline()\n",
    "\n",
    "# chardet.detect(rawdata)\n",
    "\n",
    "data = pd.read_excel(\"2021_MCM_Problem_C_Data/2021MCMProblemC_DataSet.xlsx\", datetime = \"Detection Date\")\n",
    "\n",
    "for i in range(0, len(data)) :\n",
    "    if(isinstance(data.iloc[i][\"Detection Date\"], datetime)) : \n",
    "        data.loc[i, \"Detection Date\"] = data.iloc[i][\"Detection Date\"].year\n",
    "    else :\n",
    "        data.loc[i, \"Detection Date\"] = np.nan\n",
    "\n",
    "PosData2020 = data[(data[\"Detection Date\"] == 2020) & (data[\"Lab Status\"] == \"Positive ID\")]\n",
    "\n",
    "PosData2019 = data[(data[\"Detection Date\"] == 2019) & (data[\"Lab Status\"] == \"Positive ID\")]"
   ]
  },
  {
   "cell_type": "code",
   "execution_count": 2,
   "metadata": {},
   "outputs": [
    {
     "name": "stdout",
     "output_type": "stream",
     "text": [
      "2019: 49.024412000000005 : -122.96909459999999\n",
      "2020: 48.959598666666665 : -122.59492977777775\n"
     ]
    }
   ],
   "source": [
    "print(\"2019: {0} : {1}\".format(PosData2019[\"Latitude\"].mean(), PosData2019[\"Longitude\"].mean()))\n",
    "\n",
    "print(\"2020: {0} : {1}\".format(PosData2020[\"Latitude\"].mean(), PosData2020[\"Longitude\"].mean()))"
   ]
  },
  {
   "cell_type": "code",
   "execution_count": 6,
   "metadata": {},
   "outputs": [
    {
     "data": {
      "text/plain": [
       "True"
      ]
     },
     "execution_count": 6,
     "metadata": {},
     "output_type": "execute_result"
    }
   ],
   "source": [
    "import matplotlib.pyplot as plt\n",
    "from bokeh.plotting import figure, save\n",
    "from bokeh.models import GeoJSONDataSource\n",
    "import webbrowser\n",
    "import json\n",
    "\n",
    "\n",
    "with open(\"us-all-mainland.geo.json\", encoding=\"utf8\") as f:\n",
    "    temp_data = json.loads(f.read())\n",
    "\n",
    "def wgs84_to_web_mercator(df, lon=\"Longitude\", lat=\"Latitude\"):\n",
    "\n",
    "    k = 6378137\n",
    "    df.loc[:, \"x\"] = df[lon] * (k * np.pi/180.0)\n",
    "    df.loc[:, \"y\"] = np.log(np.tan((90 + df[lat]) * np.pi/360.0)) * k\n",
    "\n",
    "    return df\n",
    "\n",
    "PosData2020.loc[:, \"x\"] = PosData2020[\"Longitude\"]\n",
    "\n",
    "PosData2020.loc[:, \"y\"] = PosData2020[\"Latitude\"]\n",
    "\n",
    "PosData2019.loc[:, \"x\"] = PosData2019[\"Longitude\"]\n",
    "\n",
    "PosData2019.loc[:, \"y\"] = PosData2019[\"Latitude\"]\n",
    "\n",
    "def isInWA(district):\n",
    "    if 'woe-name' in district['properties'] and 'Washington' in district['properties']['woe-name']:\n",
    "        return True\n",
    "    \n",
    "    return False\n",
    "\n",
    "temp_data['features'] = list(filter(isInWA, temp_data['features']))\n",
    "\n",
    "Interval_Lat = 111.11\n",
    "\n",
    "Interval_Long = 111.11 * np.cos((50 + 45) / 2 / 180 * 3.1415926)\n",
    "\n",
    "L = 25\n",
    "\n",
    "WA_Latitude_range = np.arange(45, 50, L / Interval_Lat)\n",
    "\n",
    "WA_Longitude_range = -np.arange(116, 125, L / Interval_Long)\n",
    "\n",
    "dp_array = np.zeros(shape =  (len(WA_Latitude_range), len(WA_Longitude_range)))\n",
    "\n",
    "WA_geo_source = GeoJSONDataSource(geojson=json.dumps(temp_data))\n",
    "\n",
    "p = figure(width=500, height=500)\n",
    "\n",
    "p.scatter(PosData2020[\"x\"], PosData2020[\"y\"], color = \"blue\")\n",
    "\n",
    "p.scatter(PosData2019[\"x\"], PosData2019[\"y\"], color = \"red\")\n",
    "\n",
    "for x in WA_Longitude_range :\n",
    "    p.line([x, x], [WA_Latitude_range[0], WA_Latitude_range[-1]])\n",
    "\n",
    "for y in WA_Latitude_range :\n",
    "    p.line([WA_Longitude_range[0], WA_Longitude_range[-1]], [y, y], color = \"black\")\n",
    "\n",
    "p.patches(xs='xs', ys='ys', source=WA_geo_source)\n",
    "\n",
    "save(obj=p, filename=\"WA_Map.html\")\n",
    "\n",
    "webbrowser.open(\"WA_Map.html\")"
   ]
  },
  {
   "cell_type": "code",
   "execution_count": null,
   "metadata": {},
   "outputs": [],
   "source": []
  },
  {
   "cell_type": "code",
   "execution_count": null,
   "metadata": {},
   "outputs": [],
   "source": []
  }
 ],
 "metadata": {
  "kernelspec": {
   "display_name": "Python 3",
   "language": "python",
   "name": "python3"
  },
  "language_info": {
   "codemirror_mode": {
    "name": "ipython",
    "version": 3
   },
   "file_extension": ".py",
   "mimetype": "text/x-python",
   "name": "python",
   "nbconvert_exporter": "python",
   "pygments_lexer": "ipython3",
   "version": "3.7.6"
  }
 },
 "nbformat": 4,
 "nbformat_minor": 4
}
