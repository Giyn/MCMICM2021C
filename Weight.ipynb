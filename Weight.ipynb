{
 "cells": [
  {
   "cell_type": "code",
   "execution_count": 1,
   "metadata": {},
   "outputs": [],
   "source": [
    "import numpy as np\n",
    "import pandas as pd"
   ]
  },
  {
   "cell_type": "code",
   "execution_count": 2,
   "metadata": {},
   "outputs": [],
   "source": [
    "A1 = [0, 0, 0, 0]  # 记录模糊互补矩阵每行和\n",
    "R1 = [0, 0, 0, 0]  # 记录一致性矩阵每行积\n",
    "W = [0, 0, 0, 0]\n",
    "R = np.zeros((4, 4), dtype=np.float)\n",
    "SUM = 0\n",
    "global N\n",
    "N = 4\n",
    "\n",
    "# 模糊互补矩阵\n",
    "A = np.array([\n",
    "    [0.50, 0.40, 0.40, 0.20],\n",
    "    [0.60, 0.50, 0.50, 0.30],\n",
    "    [0.60, 0.50, 0.50, 0.30],\n",
    "    [0.80, 0.70, 0.70, 0.50]\n",
    "])"
   ]
  },
  {
   "cell_type": "code",
   "execution_count": 3,
   "metadata": {},
   "outputs": [],
   "source": [
    "for i in range(N):\n",
    "    A1[i] = 0  # 记录每行的和\n",
    "    for j in range(N):\n",
    "        A1[i] += A[i][j]"
   ]
  },
  {
   "cell_type": "code",
   "execution_count": 4,
   "metadata": {},
   "outputs": [
    {
     "name": "stdout",
     "output_type": "stream",
     "text": [
      "[1.5, 1.9000000000000001, 1.9000000000000001, 2.7]\n"
     ]
    }
   ],
   "source": [
    "print(A1)"
   ]
  },
  {
   "cell_type": "code",
   "execution_count": 5,
   "metadata": {},
   "outputs": [],
   "source": [
    "# 转换成模糊一致性矩阵\n",
    "for i in range(N):\n",
    "    for j in range(N):\n",
    "        R[i][j] = (A1[i] - A1[j]) / (2 * N) + 0.5"
   ]
  },
  {
   "cell_type": "code",
   "execution_count": 6,
   "metadata": {},
   "outputs": [],
   "source": [
    "# 幂积法求单层权重\n",
    "for i in range(N):\n",
    "    R1[i] = 1\n",
    "    for j in range(N):\n",
    "        R1[i] *= R[i][j]\n",
    "    W[i] = pow(R1[i], 0.2)\n",
    "    SUM += W[i]"
   ]
  },
  {
   "cell_type": "code",
   "execution_count": 7,
   "metadata": {},
   "outputs": [],
   "source": [
    "for i in range(N):\n",
    "    W[i] = W[i] / SUM"
   ]
  },
  {
   "cell_type": "code",
   "execution_count": 8,
   "metadata": {},
   "outputs": [
    {
     "name": "stdout",
     "output_type": "stream",
     "text": [
      "[0.22453683777401584, 0.24517011157112117, 0.24517011157112117, 0.28512293908374176]\n"
     ]
    }
   ],
   "source": [
    "print(W)"
   ]
  }
 ],
 "metadata": {
  "kernelspec": {
   "display_name": "PyCharm (MCMICM2021C)",
   "language": "python",
   "name": "pycharm-3e5db8ef"
  },
  "language_info": {
   "codemirror_mode": {
    "name": "ipython",
    "version": 3
   },
   "file_extension": ".py",
   "mimetype": "text/x-python",
   "name": "python",
   "nbconvert_exporter": "python",
   "pygments_lexer": "ipython3",
   "version": "3.7.7"
  }
 },
 "nbformat": 4,
 "nbformat_minor": 4
}
